{
 "cells": [
  {
   "cell_type": "markdown",
   "metadata": {},
   "source": [
    "# Capstone Project Notebook: Neighborhood locator expats"
   ]
  },
  {
   "cell_type": "markdown",
   "metadata": {},
   "source": [
    "## Getting the notebook ready"
   ]
  },
  {
   "cell_type": "code",
   "execution_count": 20,
   "metadata": {},
   "outputs": [
    {
     "name": "stdout",
     "output_type": "stream",
     "text": [
      "Libraries imported\n"
     ]
    }
   ],
   "source": [
    "#Import libraries\n",
    "import pandas as pd\n",
    "import requests\n",
    "from bs4 import BeautifulSoup\n",
    "import urllib.request, urllib.parse, urllib.error\n",
    "print('Libraries imported')"
   ]
  },
  {
   "cell_type": "markdown",
   "metadata": {},
   "source": [
    "## Data collection and preparation"
   ]
  },
  {
   "cell_type": "markdown",
   "metadata": {},
   "source": [
    "### Zip codes and geolocation data"
   ]
  },
  {
   "cell_type": "markdown",
   "metadata": {},
   "source": [
    "To get the relevant zip-codes, I went to https://www.freemaptools.com/find-zip-codes-inside-radius.htm and searched for zip codes within 15 miles of 80021 (Westminster). The result is a list of zip-codes, which I have pasted in below. By using the len() function, I get that I have 87 zip codes within my radius. I then convert the list to a dataframe."
   ]
  },
  {
   "cell_type": "code",
   "execution_count": 25,
   "metadata": {},
   "outputs": [
    {
     "name": "stdout",
     "output_type": "stream",
     "text": [
      "87\n"
     ]
    },
    {
     "data": {
      "text/html": [
       "<div>\n",
       "<style scoped>\n",
       "    .dataframe tbody tr th:only-of-type {\n",
       "        vertical-align: middle;\n",
       "    }\n",
       "\n",
       "    .dataframe tbody tr th {\n",
       "        vertical-align: top;\n",
       "    }\n",
       "\n",
       "    .dataframe thead th {\n",
       "        text-align: right;\n",
       "    }\n",
       "</style>\n",
       "<table border=\"1\" class=\"dataframe\">\n",
       "  <thead>\n",
       "    <tr style=\"text-align: right;\">\n",
       "      <th></th>\n",
       "      <th>Zip</th>\n",
       "    </tr>\n",
       "  </thead>\n",
       "  <tbody>\n",
       "    <tr>\n",
       "      <th>0</th>\n",
       "      <td>80021</td>\n",
       "    </tr>\n",
       "    <tr>\n",
       "      <th>1</th>\n",
       "      <td>80005</td>\n",
       "    </tr>\n",
       "    <tr>\n",
       "      <th>2</th>\n",
       "      <td>80007</td>\n",
       "    </tr>\n",
       "    <tr>\n",
       "      <th>3</th>\n",
       "      <td>80038</td>\n",
       "    </tr>\n",
       "    <tr>\n",
       "      <th>4</th>\n",
       "      <td>80020</td>\n",
       "    </tr>\n",
       "  </tbody>\n",
       "</table>\n",
       "</div>"
      ],
      "text/plain": [
       "     Zip\n",
       "0  80021\n",
       "1  80005\n",
       "2  80007\n",
       "3  80038\n",
       "4  80020"
      ]
     },
     "execution_count": 25,
     "metadata": {},
     "output_type": "execute_result"
    }
   ],
   "source": [
    "zipcodes = [80021,80005,80007,80038,80020,80027,80004,80031,80303,80003,80001,80006,80002,80035,80234,80030,80036,80260,80025,80305,80033,80023,80221,80026,80034,80212,80309,80402,80419,80614,80215,80241,80306,80307,80308,80310,80314,80233,80229,80214,80301,80211,80225,80037,80202,80024,80204,80226,80304,80265,80294,80293,80266,80216,80401,80205,80290,80264,80516,80602,80243,80244,80248,80250,80251,80256,80257,80259,80261,80263,80271,80273,80274,80281,80291,80299,80201,80217,80640,80228,80471,80203,80232,80218,80544,80403,80219]\n",
    "print(len(zipcodes))\n",
    "df_zip = pd.DataFrame(zipcodes, columns=['Zip'])\n",
    "df_zip.head()"
   ]
  },
  {
   "cell_type": "markdown",
   "metadata": {},
   "source": [
    "Data on citites, latitude and longitude in Colorado are obtained from https://public.opendatasoft.com/explore/dataset/us-zip-code-latitude-and-longitude/table/?refine.state=CO and downloaded as a csv file. By using the shape function, I can see that it has 680 zip codes. "
   ]
  },
  {
   "cell_type": "code",
   "execution_count": 32,
   "metadata": {},
   "outputs": [
    {
     "data": {
      "text/plain": [
       "(680, 8)"
      ]
     },
     "execution_count": 32,
     "metadata": {},
     "output_type": "execute_result"
    }
   ],
   "source": [
    "df_geo = pd.read_csv('zip-lat-and-lon.csv', sep=';')\n",
    "df_geo.shape"
   ]
  },
  {
   "cell_type": "markdown",
   "metadata": {},
   "source": [
    "Then, I merge the two datasets by the zip code. As the shape is now 86 rows and 8 columns, all geospatial data got included, but there must have been one zip code in my list of zip codes, which was not included in the geospatial data. As only one was lost, I choose to proceed with the 86 zip codes without further investigation, but had several been lost, I would have had to look for additional data sources to help me get the rest of the geospatial data."
   ]
  },
  {
   "cell_type": "code",
   "execution_count": 80,
   "metadata": {},
   "outputs": [
    {
     "data": {
      "text/plain": [
       "(86, 8)"
      ]
     },
     "execution_count": 80,
     "metadata": {},
     "output_type": "execute_result"
    }
   ],
   "source": [
    "#Merging the two datasets by zip code\n",
    "df = pd.merge(df_zip, df_geo, on='Zip')\n",
    "df.shape"
   ]
  },
  {
   "cell_type": "code",
   "execution_count": 81,
   "metadata": {},
   "outputs": [
    {
     "data": {
      "text/html": [
       "<div>\n",
       "<style scoped>\n",
       "    .dataframe tbody tr th:only-of-type {\n",
       "        vertical-align: middle;\n",
       "    }\n",
       "\n",
       "    .dataframe tbody tr th {\n",
       "        vertical-align: top;\n",
       "    }\n",
       "\n",
       "    .dataframe thead th {\n",
       "        text-align: right;\n",
       "    }\n",
       "</style>\n",
       "<table border=\"1\" class=\"dataframe\">\n",
       "  <thead>\n",
       "    <tr style=\"text-align: right;\">\n",
       "      <th></th>\n",
       "      <th>Zip</th>\n",
       "      <th>City</th>\n",
       "      <th>State</th>\n",
       "      <th>Latitude</th>\n",
       "      <th>Longitude</th>\n",
       "      <th>Timezone</th>\n",
       "      <th>Daylight savings time flag</th>\n",
       "      <th>geopoint</th>\n",
       "    </tr>\n",
       "  </thead>\n",
       "  <tbody>\n",
       "    <tr>\n",
       "      <th>0</th>\n",
       "      <td>80021</td>\n",
       "      <td>Broomfield</td>\n",
       "      <td>CO</td>\n",
       "      <td>39.881608</td>\n",
       "      <td>-105.099530</td>\n",
       "      <td>-7</td>\n",
       "      <td>1</td>\n",
       "      <td>39.881608,-105.09953</td>\n",
       "    </tr>\n",
       "    <tr>\n",
       "      <th>1</th>\n",
       "      <td>80005</td>\n",
       "      <td>Arvada</td>\n",
       "      <td>CO</td>\n",
       "      <td>39.843304</td>\n",
       "      <td>-105.118960</td>\n",
       "      <td>-7</td>\n",
       "      <td>1</td>\n",
       "      <td>39.843304,-105.11896</td>\n",
       "    </tr>\n",
       "    <tr>\n",
       "      <th>2</th>\n",
       "      <td>80007</td>\n",
       "      <td>Arvada</td>\n",
       "      <td>CO</td>\n",
       "      <td>39.833442</td>\n",
       "      <td>-105.185910</td>\n",
       "      <td>-7</td>\n",
       "      <td>1</td>\n",
       "      <td>39.833442,-105.18591</td>\n",
       "    </tr>\n",
       "    <tr>\n",
       "      <th>3</th>\n",
       "      <td>80038</td>\n",
       "      <td>Broomfield</td>\n",
       "      <td>CO</td>\n",
       "      <td>40.087835</td>\n",
       "      <td>-105.373507</td>\n",
       "      <td>-7</td>\n",
       "      <td>1</td>\n",
       "      <td>40.087835,-105.373507</td>\n",
       "    </tr>\n",
       "    <tr>\n",
       "      <th>4</th>\n",
       "      <td>80020</td>\n",
       "      <td>Broomfield</td>\n",
       "      <td>CO</td>\n",
       "      <td>39.934040</td>\n",
       "      <td>-105.054540</td>\n",
       "      <td>-7</td>\n",
       "      <td>1</td>\n",
       "      <td>39.93404,-105.05454</td>\n",
       "    </tr>\n",
       "  </tbody>\n",
       "</table>\n",
       "</div>"
      ],
      "text/plain": [
       "     Zip        City State   Latitude   Longitude  Timezone  \\\n",
       "0  80021  Broomfield    CO  39.881608 -105.099530        -7   \n",
       "1  80005      Arvada    CO  39.843304 -105.118960        -7   \n",
       "2  80007      Arvada    CO  39.833442 -105.185910        -7   \n",
       "3  80038  Broomfield    CO  40.087835 -105.373507        -7   \n",
       "4  80020  Broomfield    CO  39.934040 -105.054540        -7   \n",
       "\n",
       "   Daylight savings time flag               geopoint  \n",
       "0                           1   39.881608,-105.09953  \n",
       "1                           1   39.843304,-105.11896  \n",
       "2                           1   39.833442,-105.18591  \n",
       "3                           1  40.087835,-105.373507  \n",
       "4                           1    39.93404,-105.05454  "
      ]
     },
     "execution_count": 81,
     "metadata": {},
     "output_type": "execute_result"
    }
   ],
   "source": [
    "#Let's just look at our data\n",
    "df.head()"
   ]
  },
  {
   "cell_type": "markdown",
   "metadata": {},
   "source": [
    "### Housing price information"
   ]
  },
  {
   "cell_type": "markdown",
   "metadata": {},
   "source": [
    "Next step is to include rental information. The dataset of rental prices in Colorado provided by Zillow was found [here](https://public.opendatasoft.com/explore/dataset/rental-values/table/?disjunctive.regionname&disjunctive.city&disjunctive.state&disjunctive.metro&disjunctive.countyname&refine.state=CO) and is a much larger dataset of 22.431 rows and 9 columns."
   ]
  },
  {
   "cell_type": "code",
   "execution_count": 33,
   "metadata": {},
   "outputs": [
    {
     "data": {
      "text/plain": [
       "(22431, 9)"
      ]
     },
     "execution_count": 33,
     "metadata": {},
     "output_type": "execute_result"
    }
   ],
   "source": [
    "df_rent = pd.read_csv('rental-values.csv', sep=';')\n",
    "df_rent.shape"
   ]
  },
  {
   "cell_type": "markdown",
   "metadata": {},
   "source": [
    "First, I will investigate the different house types ann price unit and the available data for each. Using the data per square meter seems reasonable, as the different sizes of the house units are then taking into account. However, as we would like a house with 1 bedroom, I'll also want to be able to compare zip codes on the rental price of a 1-bdr house. Therefore, I'll reduce the dataset to a dataset that returns the mean rental prices per sqm and the mean rental price of a 1-bdr house for each zipcode (where available). If you look closer at the data, you will realize that it has been collected over a range of years. While I'm mainly interested in new data, I don't need to predict the rental price, I just want to be able to compare. My data may be biased if the relative price between the zip codes have changed a lot in recent years, but for the purpose of this assignment, I will leave the rental value data as it is. "
   ]
  },
  {
   "cell_type": "code",
   "execution_count": 42,
   "metadata": {},
   "outputs": [
    {
     "name": "stdout",
     "output_type": "stream",
     "text": [
      "House with 2 bedrooms              6939\n",
      "Single Family Residential home.    6642\n",
      "House with 1 bedroom               4869\n",
      "House with 3 bedrooms              2152\n",
      "Condo / Co-op                      1017\n",
      "Studio                              656\n",
      "Duplex / Triplex                    122\n",
      "House with 4 bedrooms                34\n",
      "Name: House type, dtype: int64\n",
      "Per square meter    11291\n",
      "Whole house         11140\n",
      "Name: Price unit, dtype: int64\n"
     ]
    }
   ],
   "source": [
    "print(df_rent['House type'].value_counts())\n",
    "print(df_rent['Price unit'].value_counts())"
   ]
  },
  {
   "cell_type": "code",
   "execution_count": 58,
   "metadata": {},
   "outputs": [
    {
     "data": {
      "text/html": [
       "<div>\n",
       "<style scoped>\n",
       "    .dataframe tbody tr th:only-of-type {\n",
       "        vertical-align: middle;\n",
       "    }\n",
       "\n",
       "    .dataframe tbody tr th {\n",
       "        vertical-align: top;\n",
       "    }\n",
       "\n",
       "    .dataframe thead th {\n",
       "        text-align: right;\n",
       "    }\n",
       "</style>\n",
       "<table border=\"1\" class=\"dataframe\">\n",
       "  <thead>\n",
       "    <tr style=\"text-align: right;\">\n",
       "      <th></th>\n",
       "      <th>Zip</th>\n",
       "      <th>Rent 1bdr</th>\n",
       "    </tr>\n",
       "  </thead>\n",
       "  <tbody>\n",
       "    <tr>\n",
       "      <th>0</th>\n",
       "      <td>80002</td>\n",
       "      <td>667.364057</td>\n",
       "    </tr>\n",
       "    <tr>\n",
       "      <th>1</th>\n",
       "      <td>80010</td>\n",
       "      <td>541.887514</td>\n",
       "    </tr>\n",
       "    <tr>\n",
       "      <th>2</th>\n",
       "      <td>80011</td>\n",
       "      <td>684.534838</td>\n",
       "    </tr>\n",
       "    <tr>\n",
       "      <th>3</th>\n",
       "      <td>80012</td>\n",
       "      <td>532.109570</td>\n",
       "    </tr>\n",
       "    <tr>\n",
       "      <th>4</th>\n",
       "      <td>80013</td>\n",
       "      <td>560.979136</td>\n",
       "    </tr>\n",
       "  </tbody>\n",
       "</table>\n",
       "</div>"
      ],
      "text/plain": [
       "     Zip   Rent 1bdr\n",
       "0  80002  667.364057\n",
       "1  80010  541.887514\n",
       "2  80011  684.534838\n",
       "3  80012  532.109570\n",
       "4  80013  560.979136"
      ]
     },
     "execution_count": 58,
     "metadata": {},
     "output_type": "execute_result"
    }
   ],
   "source": [
    "#First I do the data for the house with 1 bedroom. I only use data on the relevant house type \n",
    "df_1bdr = df_rent[df_rent['House type'] == 'House with 1 bedroom']\n",
    "#Then I group them by zip code and return the mean rental value\n",
    "df_1bdr = df_1bdr.groupby('ZIP Code')['Rental value'].mean()\n",
    "#I generate a dataframe and rename the column\n",
    "df_1bdr = pd.DataFrame(df_1bdr)\n",
    "df_1bdr.reset_index(drop=False, inplace=True)\n",
    "df_1bdr.rename(columns={'ZIP Code': 'Zip','Rental value': 'Rent 1bdr'}, inplace=True)\n",
    "df_1bdr.head()"
   ]
  },
  {
   "cell_type": "code",
   "execution_count": 59,
   "metadata": {},
   "outputs": [
    {
     "data": {
      "text/html": [
       "<div>\n",
       "<style scoped>\n",
       "    .dataframe tbody tr th:only-of-type {\n",
       "        vertical-align: middle;\n",
       "    }\n",
       "\n",
       "    .dataframe tbody tr th {\n",
       "        vertical-align: top;\n",
       "    }\n",
       "\n",
       "    .dataframe thead th {\n",
       "        text-align: right;\n",
       "    }\n",
       "</style>\n",
       "<table border=\"1\" class=\"dataframe\">\n",
       "  <thead>\n",
       "    <tr style=\"text-align: right;\">\n",
       "      <th></th>\n",
       "      <th>Zip</th>\n",
       "      <th>Rent sqm</th>\n",
       "    </tr>\n",
       "  </thead>\n",
       "  <tbody>\n",
       "    <tr>\n",
       "      <th>0</th>\n",
       "      <td>80002</td>\n",
       "      <td>1.918787</td>\n",
       "    </tr>\n",
       "    <tr>\n",
       "      <th>1</th>\n",
       "      <td>80003</td>\n",
       "      <td>1.571731</td>\n",
       "    </tr>\n",
       "    <tr>\n",
       "      <th>2</th>\n",
       "      <td>80010</td>\n",
       "      <td>1.537837</td>\n",
       "    </tr>\n",
       "    <tr>\n",
       "      <th>3</th>\n",
       "      <td>80011</td>\n",
       "      <td>1.628203</td>\n",
       "    </tr>\n",
       "    <tr>\n",
       "      <th>4</th>\n",
       "      <td>80012</td>\n",
       "      <td>1.489803</td>\n",
       "    </tr>\n",
       "  </tbody>\n",
       "</table>\n",
       "</div>"
      ],
      "text/plain": [
       "     Zip  Rent sqm\n",
       "0  80002  1.918787\n",
       "1  80003  1.571731\n",
       "2  80010  1.537837\n",
       "3  80011  1.628203\n",
       "4  80012  1.489803"
      ]
     },
     "execution_count": 59,
     "metadata": {},
     "output_type": "execute_result"
    }
   ],
   "source": [
    "#Then I repeat the procedure, only for the price unit instead\n",
    "df_sqm = df_rent[df_rent['Price unit'] == 'Per square meter']\n",
    "#Then I group them by zip code and return the mean rental value\n",
    "df_sqm = df_sqm.groupby('ZIP Code')['Rental value'].mean()\n",
    "#I generate a dataframe and rename the column\n",
    "df_sqm = pd.DataFrame(df_sqm)\n",
    "df_sqm.reset_index(drop=False, inplace=True)\n",
    "df_sqm.rename(columns={'ZIP Code': 'Zip','Rental value': 'Rent sqm'}, inplace=True)\n",
    "df_sqm.head()"
   ]
  },
  {
   "cell_type": "code",
   "execution_count": 64,
   "metadata": {},
   "outputs": [
    {
     "data": {
      "text/plain": [
       "(86, 10)"
      ]
     },
     "execution_count": 64,
     "metadata": {},
     "output_type": "execute_result"
    }
   ],
   "source": [
    "#Now let's add the two dataframes to our dataset using the left join, \n",
    "#(to avoid deleting any zip codes without rental price information available)\n",
    "df2 = pd.merge(left=df,right=df_1bdr, how='left', left_on='Zip', right_on='Zip')\n",
    "df2.shape\n",
    "#We still got 86 zip codes, but with 9 columns instead of 8. Yay.\n",
    "\n",
    "#Let's do the same for df_sqm\n",
    "df2 = pd.merge(left=df2,right=df_sqm, how='left', left_on='Zip', right_on='Zip')\n",
    "df2.shape\n",
    "#Now we have 10 columns. Yay."
   ]
  },
  {
   "cell_type": "markdown",
   "metadata": {},
   "source": [
    "As can be seen below, the rent data did not perform all that well, as it only returned rent data per sqm for 36 out of 87 zip codes. This means, that rental prices cannot be compared across all zip codes. "
   ]
  },
  {
   "cell_type": "code",
   "execution_count": 67,
   "metadata": {},
   "outputs": [
    {
     "data": {
      "text/plain": [
       "Zip                            0\n",
       "City                           0\n",
       "State                          0\n",
       "Latitude                       0\n",
       "Longitude                      0\n",
       "Timezone                       0\n",
       "Daylight savings time flag     0\n",
       "geopoint                       0\n",
       "Rent 1bdr                     60\n",
       "Rent sqm                      51\n",
       "dtype: int64"
      ]
     },
     "execution_count": 67,
     "metadata": {},
     "output_type": "execute_result"
    }
   ],
   "source": [
    "#Let's see how well our rent data performed.\n",
    "df2.isnull().sum()"
   ]
  },
  {
   "cell_type": "markdown",
   "metadata": {},
   "source": [
    "It may be easier to get information on the median house value in a zip code instead, an use that as a proxy for rental prices. Zillow has also provided such a dataset available on OpenDataSoft, which I have sorted to include median home values per sqm in Colorado in 2019 (get data [here](https://public.opendatasoft.com/explore/dataset/unites-states-home-values/table/?q=CO&refine.state=CO&refine.date=2019)). This dataset provides data on a city level rather than on a zip code level, which means that it is less detailed, but should cover more of the areas we want to analyze for this study."
   ]
  },
  {
   "cell_type": "code",
   "execution_count": 72,
   "metadata": {},
   "outputs": [
    {
     "data": {
      "text/plain": [
       "(4908, 6)"
      ]
     },
     "execution_count": 72,
     "metadata": {},
     "output_type": "execute_result"
    }
   ],
   "source": [
    "df_home = pd.read_csv('house-values.csv', sep=';')\n",
    "df_home.shape\n",
    "df_home.head()"
   ]
  },
  {
   "cell_type": "code",
   "execution_count": 77,
   "metadata": {},
   "outputs": [],
   "source": [
    "#I will drop the irrelevant columns:\n",
    "df_home.drop(columns=['State','Metro','County name','Date'], inplace=True)\n",
    "#and rename the remaining columns\n",
    "df_home.rename(columns={'Zip code': 'City','Home value ($ per m2)': 'House price sqm'}, inplace=True)"
   ]
  },
  {
   "cell_type": "code",
   "execution_count": 85,
   "metadata": {},
   "outputs": [
    {
     "data": {
      "text/html": [
       "<div>\n",
       "<style scoped>\n",
       "    .dataframe tbody tr th:only-of-type {\n",
       "        vertical-align: middle;\n",
       "    }\n",
       "\n",
       "    .dataframe tbody tr th {\n",
       "        vertical-align: top;\n",
       "    }\n",
       "\n",
       "    .dataframe thead th {\n",
       "        text-align: right;\n",
       "    }\n",
       "</style>\n",
       "<table border=\"1\" class=\"dataframe\">\n",
       "  <thead>\n",
       "    <tr style=\"text-align: right;\">\n",
       "      <th></th>\n",
       "      <th>City</th>\n",
       "      <th>House price sqm</th>\n",
       "    </tr>\n",
       "  </thead>\n",
       "  <tbody>\n",
       "    <tr>\n",
       "      <th>0</th>\n",
       "      <td>Ward</td>\n",
       "      <td>355</td>\n",
       "    </tr>\n",
       "    <tr>\n",
       "      <th>1</th>\n",
       "      <td>Yellow Jacket</td>\n",
       "      <td>166</td>\n",
       "    </tr>\n",
       "    <tr>\n",
       "      <th>2</th>\n",
       "      <td>Beulah</td>\n",
       "      <td>174</td>\n",
       "    </tr>\n",
       "    <tr>\n",
       "      <th>3</th>\n",
       "      <td>San Luis</td>\n",
       "      <td>80</td>\n",
       "    </tr>\n",
       "    <tr>\n",
       "      <th>4</th>\n",
       "      <td>Mosca</td>\n",
       "      <td>3568</td>\n",
       "    </tr>\n",
       "  </tbody>\n",
       "</table>\n",
       "</div>"
      ],
      "text/plain": [
       "            City  House price sqm\n",
       "0           Ward              355\n",
       "1  Yellow Jacket              166\n",
       "2         Beulah              174\n",
       "3       San Luis               80\n",
       "4          Mosca             3568"
      ]
     },
     "execution_count": 85,
     "metadata": {},
     "output_type": "execute_result"
    }
   ],
   "source": [
    "df_home.head()"
   ]
  },
  {
   "cell_type": "code",
   "execution_count": 97,
   "metadata": {},
   "outputs": [
    {
     "data": {
      "text/html": [
       "<div>\n",
       "<style scoped>\n",
       "    .dataframe tbody tr th:only-of-type {\n",
       "        vertical-align: middle;\n",
       "    }\n",
       "\n",
       "    .dataframe tbody tr th {\n",
       "        vertical-align: top;\n",
       "    }\n",
       "\n",
       "    .dataframe thead th {\n",
       "        text-align: right;\n",
       "    }\n",
       "</style>\n",
       "<table border=\"1\" class=\"dataframe\">\n",
       "  <thead>\n",
       "    <tr style=\"text-align: right;\">\n",
       "      <th></th>\n",
       "      <th>Zip</th>\n",
       "      <th>City</th>\n",
       "      <th>Latitude</th>\n",
       "      <th>Longitude</th>\n",
       "      <th>geopoint</th>\n",
       "      <th>House price sqm</th>\n",
       "      <th>Area</th>\n",
       "    </tr>\n",
       "  </thead>\n",
       "  <tbody>\n",
       "    <tr>\n",
       "      <th>0</th>\n",
       "      <td>80021</td>\n",
       "      <td>Broomfield</td>\n",
       "      <td>39.881608</td>\n",
       "      <td>-105.099530</td>\n",
       "      <td>39.881608,-105.09953</td>\n",
       "      <td>269</td>\n",
       "      <td>(80021) Broomfield</td>\n",
       "    </tr>\n",
       "    <tr>\n",
       "      <th>12</th>\n",
       "      <td>80038</td>\n",
       "      <td>Broomfield</td>\n",
       "      <td>40.087835</td>\n",
       "      <td>-105.373507</td>\n",
       "      <td>40.087835,-105.373507</td>\n",
       "      <td>269</td>\n",
       "      <td>(80038) Broomfield</td>\n",
       "    </tr>\n",
       "    <tr>\n",
       "      <th>24</th>\n",
       "      <td>80020</td>\n",
       "      <td>Broomfield</td>\n",
       "      <td>39.934040</td>\n",
       "      <td>-105.054540</td>\n",
       "      <td>39.93404,-105.05454</td>\n",
       "      <td>269</td>\n",
       "      <td>(80020) Broomfield</td>\n",
       "    </tr>\n",
       "    <tr>\n",
       "      <th>36</th>\n",
       "      <td>80005</td>\n",
       "      <td>Arvada</td>\n",
       "      <td>39.843304</td>\n",
       "      <td>-105.118960</td>\n",
       "      <td>39.843304,-105.11896</td>\n",
       "      <td>342</td>\n",
       "      <td>(80005) Arvada</td>\n",
       "    </tr>\n",
       "    <tr>\n",
       "      <th>48</th>\n",
       "      <td>80007</td>\n",
       "      <td>Arvada</td>\n",
       "      <td>39.833442</td>\n",
       "      <td>-105.185910</td>\n",
       "      <td>39.833442,-105.18591</td>\n",
       "      <td>342</td>\n",
       "      <td>(80007) Arvada</td>\n",
       "    </tr>\n",
       "  </tbody>\n",
       "</table>\n",
       "</div>"
      ],
      "text/plain": [
       "      Zip        City   Latitude   Longitude               geopoint  \\\n",
       "0   80021  Broomfield  39.881608 -105.099530   39.881608,-105.09953   \n",
       "12  80038  Broomfield  40.087835 -105.373507  40.087835,-105.373507   \n",
       "24  80020  Broomfield  39.934040 -105.054540    39.93404,-105.05454   \n",
       "36  80005      Arvada  39.843304 -105.118960   39.843304,-105.11896   \n",
       "48  80007      Arvada  39.833442 -105.185910   39.833442,-105.18591   \n",
       "\n",
       "    House price sqm                Area  \n",
       "0               269  (80021) Broomfield  \n",
       "12              269  (80038) Broomfield  \n",
       "24              269  (80020) Broomfield  \n",
       "36              342      (80005) Arvada  \n",
       "48              342      (80007) Arvada  "
      ]
     },
     "execution_count": 97,
     "metadata": {},
     "output_type": "execute_result"
    }
   ],
   "source": [
    "#Let's get these data into our dataset and remove redundant columns\n",
    "df2 = pd.merge(df,df_home, on='City')\n",
    "df2 = df2.drop_duplicates()\n",
    "df2.drop(columns=['State','Timezone','Daylight savings time flag'], inplace=True)\n",
    "df2['Area']=\"(\"+ df2['Zip'].astype(str) + \") \" + df2['City']\n",
    "df2.head()"
   ]
  },
  {
   "cell_type": "markdown",
   "metadata": {},
   "source": [
    "Now we have 83 zip codes with geolocation and home price information. Good. We'll use this as the base for our Foursquare data retrieval. "
   ]
  },
  {
   "cell_type": "markdown",
   "metadata": {},
   "source": [
    "### Foursquare information"
   ]
  },
  {
   "cell_type": "markdown",
   "metadata": {},
   "source": [
    "To get information about the different neighborhoods, I will use the foursquare API. I have chosen a radius of 1.5 km and limited the number of results to 200. "
   ]
  },
  {
   "cell_type": "code",
   "execution_count": 93,
   "metadata": {},
   "outputs": [
    {
     "name": "stdout",
     "output_type": "stream",
     "text": [
      "Your credentails:\n",
      "CLIENT_ID: L4VLULQWHVKXWO4U0UY2CNYHAUHEQZ4YTHP0BDSQWZP0IZHQ\n",
      "CLIENT_SECRET:IX0BS0UQ3MCNNN4D2A0LTSYWE2XCVBLXNY5NHDPXI0BAVRQT\n"
     ]
    }
   ],
   "source": [
    "#Preparing API credentials\n",
    "CLIENT_ID = 'L4VLULQWHVKXWO4U0UY2CNYHAUHEQZ4YTHP0BDSQWZP0IZHQ' # your Foursquare ID\n",
    "CLIENT_SECRET = 'IX0BS0UQ3MCNNN4D2A0LTSYWE2XCVBLXNY5NHDPXI0BAVRQT' # your Foursquare Secret\n",
    "VERSION = '20200401' # Foursquare API version\n",
    "\n",
    "print('Your credentails:')\n",
    "print('CLIENT_ID: ' + CLIENT_ID)\n",
    "print('CLIENT_SECRET:' + CLIENT_SECRET)"
   ]
  },
  {
   "cell_type": "code",
   "execution_count": 119,
   "metadata": {},
   "outputs": [],
   "source": [
    "#Defining function to get nearby venues in a neighborhood\n",
    "def getNearbyVenues(names, latitudes, longitudes, radius=1500):\n",
    "    LIMIT = 200\n",
    "    venues_list=[]\n",
    "    for name, lat, lng in zip(names, latitudes, longitudes):\n",
    "        print(name)\n",
    "            \n",
    "        # create the API request URL\n",
    "        url = 'https://api.foursquare.com/v2/venues/explore?&client_id={}&client_secret={}&v={}&ll={},{}&radius={}&limit={}'.format(\n",
    "            CLIENT_ID, \n",
    "            CLIENT_SECRET, \n",
    "            VERSION, \n",
    "            lat, \n",
    "            lng, \n",
    "            radius, \n",
    "            LIMIT)\n",
    "            \n",
    "        # make the GET request\n",
    "        results = requests.get(url).json()[\"response\"]['groups'][0]['items']\n",
    "        \n",
    "        # return only relevant information for each nearby venue\n",
    "        venues_list.append([(\n",
    "            name, \n",
    "            lat, \n",
    "            lng, \n",
    "            v['venue']['name'], \n",
    "            v['venue']['location']['lat'], \n",
    "            v['venue']['location']['lng'],  \n",
    "            v['venue']['categories'][0]['name']) for v in results])\n",
    "\n",
    "    nearby_venues = pd.DataFrame([item for venue_list in venues_list for item in venue_list])\n",
    "    nearby_venues.columns = ['Area', \n",
    "                  'Area Latitude', \n",
    "                  'Area Longitude', \n",
    "                  'Venue', \n",
    "                  'Venue Latitude', \n",
    "                  'Venue Longitude', \n",
    "                  'Venue Category']\n",
    "    \n",
    "    return(nearby_venues)"
   ]
  },
  {
   "cell_type": "code",
   "execution_count": 120,
   "metadata": {},
   "outputs": [
    {
     "name": "stdout",
     "output_type": "stream",
     "text": [
      "(80021) Broomfield\n",
      "(80038) Broomfield\n",
      "(80020) Broomfield\n",
      "(80005) Arvada\n",
      "(80007) Arvada\n",
      "(80004) Arvada\n",
      "(80003) Arvada\n",
      "(80001) Arvada\n",
      "(80006) Arvada\n",
      "(80002) Arvada\n",
      "(80027) Louisville\n",
      "(80031) Westminster\n",
      "(80035) Westminster\n",
      "(80030) Westminster\n",
      "(80036) Westminster\n",
      "(80303) Boulder\n",
      "(80305) Boulder\n",
      "(80309) Boulder\n",
      "(80306) Boulder\n",
      "(80307) Boulder\n",
      "(80308) Boulder\n",
      "(80310) Boulder\n",
      "(80314) Boulder\n",
      "(80301) Boulder\n",
      "(80304) Boulder\n",
      "(80234) Denver\n",
      "(80260) Denver\n",
      "(80221) Denver\n",
      "(80212) Denver\n",
      "(80215) Denver\n",
      "(80241) Denver\n",
      "(80233) Denver\n",
      "(80229) Denver\n",
      "(80214) Denver\n",
      "(80211) Denver\n",
      "(80225) Denver\n",
      "(80202) Denver\n",
      "(80204) Denver\n",
      "(80226) Denver\n",
      "(80265) Denver\n",
      "(80294) Denver\n",
      "(80293) Denver\n",
      "(80266) Denver\n",
      "(80216) Denver\n",
      "(80205) Denver\n",
      "(80290) Denver\n",
      "(80264) Denver\n",
      "(80243) Denver\n",
      "(80244) Denver\n",
      "(80248) Denver\n",
      "(80250) Denver\n",
      "(80251) Denver\n",
      "(80256) Denver\n",
      "(80257) Denver\n",
      "(80259) Denver\n",
      "(80261) Denver\n",
      "(80263) Denver\n",
      "(80271) Denver\n",
      "(80273) Denver\n",
      "(80274) Denver\n",
      "(80281) Denver\n",
      "(80291) Denver\n",
      "(80299) Denver\n",
      "(80201) Denver\n",
      "(80217) Denver\n",
      "(80228) Denver\n",
      "(80203) Denver\n",
      "(80232) Denver\n",
      "(80218) Denver\n",
      "(80219) Denver\n",
      "(80025) Eldorado Springs\n",
      "(80033) Wheat Ridge\n",
      "(80034) Wheat Ridge\n",
      "(80026) Lafayette\n",
      "(80402) Golden\n",
      "(80419) Golden\n",
      "(80401) Golden\n",
      "(80403) Golden\n",
      "(80037) Commerce City\n",
      "(80516) Erie\n",
      "(80602) Thornton\n",
      "(80471) Pinecliffe\n",
      "(80544) Niwot\n"
     ]
    }
   ],
   "source": [
    "#Running the above function on all the areas in our dataset\n",
    "dt_venues = getNearbyVenues(names=df2['Area'],\n",
    "                                   latitudes=df2['Latitude'],\n",
    "                                   longitudes=df2['Longitude']\n",
    "                                  )"
   ]
  },
  {
   "cell_type": "code",
   "execution_count": 121,
   "metadata": {},
   "outputs": [
    {
     "name": "stdout",
     "output_type": "stream",
     "text": [
      "(3084, 7)\n"
     ]
    },
    {
     "data": {
      "text/html": [
       "<div>\n",
       "<style scoped>\n",
       "    .dataframe tbody tr th:only-of-type {\n",
       "        vertical-align: middle;\n",
       "    }\n",
       "\n",
       "    .dataframe tbody tr th {\n",
       "        vertical-align: top;\n",
       "    }\n",
       "\n",
       "    .dataframe thead th {\n",
       "        text-align: right;\n",
       "    }\n",
       "</style>\n",
       "<table border=\"1\" class=\"dataframe\">\n",
       "  <thead>\n",
       "    <tr style=\"text-align: right;\">\n",
       "      <th></th>\n",
       "      <th>Area</th>\n",
       "      <th>Area Latitude</th>\n",
       "      <th>Area Longitude</th>\n",
       "      <th>Venue</th>\n",
       "      <th>Venue Latitude</th>\n",
       "      <th>Venue Longitude</th>\n",
       "      <th>Venue Category</th>\n",
       "    </tr>\n",
       "  </thead>\n",
       "  <tbody>\n",
       "    <tr>\n",
       "      <th>0</th>\n",
       "      <td>(80021) Broomfield</td>\n",
       "      <td>39.881608</td>\n",
       "      <td>-105.09953</td>\n",
       "      <td>Starbucks</td>\n",
       "      <td>39.880083</td>\n",
       "      <td>-105.096956</td>\n",
       "      <td>Coffee Shop</td>\n",
       "    </tr>\n",
       "    <tr>\n",
       "      <th>1</th>\n",
       "      <td>(80021) Broomfield</td>\n",
       "      <td>39.881608</td>\n",
       "      <td>-105.09953</td>\n",
       "      <td>LaMar's Donuts and Coffee</td>\n",
       "      <td>39.876984</td>\n",
       "      <td>-105.094064</td>\n",
       "      <td>Donut Shop</td>\n",
       "    </tr>\n",
       "    <tr>\n",
       "      <th>2</th>\n",
       "      <td>(80021) Broomfield</td>\n",
       "      <td>39.881608</td>\n",
       "      <td>-105.09953</td>\n",
       "      <td>Walnut Creek Liquor</td>\n",
       "      <td>39.880987</td>\n",
       "      <td>-105.092200</td>\n",
       "      <td>Liquor Store</td>\n",
       "    </tr>\n",
       "    <tr>\n",
       "      <th>3</th>\n",
       "      <td>(80021) Broomfield</td>\n",
       "      <td>39.881608</td>\n",
       "      <td>-105.09953</td>\n",
       "      <td>Walgreens</td>\n",
       "      <td>39.877497</td>\n",
       "      <td>-105.094410</td>\n",
       "      <td>Pharmacy</td>\n",
       "    </tr>\n",
       "    <tr>\n",
       "      <th>4</th>\n",
       "      <td>(80021) Broomfield</td>\n",
       "      <td>39.881608</td>\n",
       "      <td>-105.09953</td>\n",
       "      <td>King Soopers</td>\n",
       "      <td>39.876680</td>\n",
       "      <td>-105.097810</td>\n",
       "      <td>Grocery Store</td>\n",
       "    </tr>\n",
       "  </tbody>\n",
       "</table>\n",
       "</div>"
      ],
      "text/plain": [
       "                 Area  Area Latitude  Area Longitude  \\\n",
       "0  (80021) Broomfield      39.881608      -105.09953   \n",
       "1  (80021) Broomfield      39.881608      -105.09953   \n",
       "2  (80021) Broomfield      39.881608      -105.09953   \n",
       "3  (80021) Broomfield      39.881608      -105.09953   \n",
       "4  (80021) Broomfield      39.881608      -105.09953   \n",
       "\n",
       "                       Venue  Venue Latitude  Venue Longitude Venue Category  \n",
       "0                  Starbucks       39.880083      -105.096956    Coffee Shop  \n",
       "1  LaMar's Donuts and Coffee       39.876984      -105.094064     Donut Shop  \n",
       "2        Walnut Creek Liquor       39.880987      -105.092200   Liquor Store  \n",
       "3                  Walgreens       39.877497      -105.094410       Pharmacy  \n",
       "4               King Soopers       39.876680      -105.097810  Grocery Store  "
      ]
     },
     "execution_count": 121,
     "metadata": {},
     "output_type": "execute_result"
    }
   ],
   "source": [
    "#Checking the results\n",
    "print(dt_venues.shape)\n",
    "dt_venues.head()"
   ]
  },
  {
   "cell_type": "markdown",
   "metadata": {},
   "source": [
    "Now I've got information on venues within my radius. Next step is to prepare the data to be used for an analysis. First, I'll make dummies for the different venue categories."
   ]
  },
  {
   "cell_type": "code",
   "execution_count": 220,
   "metadata": {},
   "outputs": [
    {
     "data": {
      "text/plain": [
       "(3084, 276)"
      ]
     },
     "execution_count": 220,
     "metadata": {},
     "output_type": "execute_result"
    }
   ],
   "source": [
    "# one hot encoding\n",
    "dt_onehot = pd.get_dummies(dt_venues[['Venue Category']], prefix=\"\", prefix_sep=\"\")\n",
    "\n",
    "# Now, I add the area and lat/lon columns back to dataframe\n",
    "dt_onehot['Area'] = dt_venues['Area'] \n",
    "\n",
    "#Right now, columns are in alphabetical order. Now we need to move the new column to the first position. \n",
    "cols = list(dt_onehot.columns.values)\n",
    "cols.remove('Area')\n",
    "cols.insert(0,'Area')\n",
    "dt_onehot = dt_onehot.reindex(columns=cols)\n",
    "\n",
    "dt_onehot.shape"
   ]
  },
  {
   "cell_type": "markdown",
   "metadata": {},
   "source": [
    "Next, I group the data by area and sum up all the occurences of each venue category per area. It appears that only 73 out of the 83 zip codes has venues registered with them. This means, that my data set is now down to 73 areas. "
   ]
  },
  {
   "cell_type": "code",
   "execution_count": 221,
   "metadata": {},
   "outputs": [
    {
     "data": {
      "text/plain": [
       "(73, 276)"
      ]
     },
     "execution_count": 221,
     "metadata": {},
     "output_type": "execute_result"
    }
   ],
   "source": [
    "dt_grouped = dt_onehot.groupby('Area').sum().reset_index()\n",
    "dt_grouped.shape"
   ]
  },
  {
   "cell_type": "markdown",
   "metadata": {},
   "source": [
    "I also wanted to be able to compare housing prices. Thus, I add the housing price information to the dataset."
   ]
  },
  {
   "cell_type": "code",
   "execution_count": 222,
   "metadata": {},
   "outputs": [
    {
     "data": {
      "text/html": [
       "<div>\n",
       "<style scoped>\n",
       "    .dataframe tbody tr th:only-of-type {\n",
       "        vertical-align: middle;\n",
       "    }\n",
       "\n",
       "    .dataframe tbody tr th {\n",
       "        vertical-align: top;\n",
       "    }\n",
       "\n",
       "    .dataframe thead th {\n",
       "        text-align: right;\n",
       "    }\n",
       "</style>\n",
       "<table border=\"1\" class=\"dataframe\">\n",
       "  <thead>\n",
       "    <tr style=\"text-align: right;\">\n",
       "      <th></th>\n",
       "      <th>Area</th>\n",
       "      <th>ATM</th>\n",
       "      <th>Accessories Store</th>\n",
       "      <th>Airport</th>\n",
       "      <th>Airport Terminal</th>\n",
       "      <th>Alternative Healer</th>\n",
       "      <th>American Restaurant</th>\n",
       "      <th>Arcade</th>\n",
       "      <th>Art Gallery</th>\n",
       "      <th>Art Museum</th>\n",
       "      <th>...</th>\n",
       "      <th>Vietnamese Restaurant</th>\n",
       "      <th>Warehouse Store</th>\n",
       "      <th>Water Park</th>\n",
       "      <th>Wine Bar</th>\n",
       "      <th>Wine Shop</th>\n",
       "      <th>Wings Joint</th>\n",
       "      <th>Women's Store</th>\n",
       "      <th>Yoga Studio</th>\n",
       "      <th>Zoo Exhibit</th>\n",
       "      <th>House price sqm</th>\n",
       "    </tr>\n",
       "  </thead>\n",
       "  <tbody>\n",
       "    <tr>\n",
       "      <th>0</th>\n",
       "      <td>(80001) Arvada</td>\n",
       "      <td>0</td>\n",
       "      <td>0</td>\n",
       "      <td>0</td>\n",
       "      <td>0</td>\n",
       "      <td>0</td>\n",
       "      <td>0</td>\n",
       "      <td>0</td>\n",
       "      <td>0</td>\n",
       "      <td>0</td>\n",
       "      <td>...</td>\n",
       "      <td>0</td>\n",
       "      <td>0</td>\n",
       "      <td>0</td>\n",
       "      <td>0</td>\n",
       "      <td>0</td>\n",
       "      <td>0</td>\n",
       "      <td>0</td>\n",
       "      <td>0</td>\n",
       "      <td>0</td>\n",
       "      <td>342</td>\n",
       "    </tr>\n",
       "    <tr>\n",
       "      <th>1</th>\n",
       "      <td>(80002) Arvada</td>\n",
       "      <td>1</td>\n",
       "      <td>0</td>\n",
       "      <td>0</td>\n",
       "      <td>0</td>\n",
       "      <td>0</td>\n",
       "      <td>0</td>\n",
       "      <td>0</td>\n",
       "      <td>0</td>\n",
       "      <td>0</td>\n",
       "      <td>...</td>\n",
       "      <td>0</td>\n",
       "      <td>1</td>\n",
       "      <td>0</td>\n",
       "      <td>0</td>\n",
       "      <td>0</td>\n",
       "      <td>2</td>\n",
       "      <td>0</td>\n",
       "      <td>1</td>\n",
       "      <td>0</td>\n",
       "      <td>342</td>\n",
       "    </tr>\n",
       "    <tr>\n",
       "      <th>2</th>\n",
       "      <td>(80003) Arvada</td>\n",
       "      <td>0</td>\n",
       "      <td>0</td>\n",
       "      <td>0</td>\n",
       "      <td>0</td>\n",
       "      <td>0</td>\n",
       "      <td>0</td>\n",
       "      <td>0</td>\n",
       "      <td>0</td>\n",
       "      <td>0</td>\n",
       "      <td>...</td>\n",
       "      <td>1</td>\n",
       "      <td>0</td>\n",
       "      <td>0</td>\n",
       "      <td>0</td>\n",
       "      <td>0</td>\n",
       "      <td>0</td>\n",
       "      <td>0</td>\n",
       "      <td>0</td>\n",
       "      <td>0</td>\n",
       "      <td>342</td>\n",
       "    </tr>\n",
       "    <tr>\n",
       "      <th>3</th>\n",
       "      <td>(80004) Arvada</td>\n",
       "      <td>0</td>\n",
       "      <td>0</td>\n",
       "      <td>0</td>\n",
       "      <td>0</td>\n",
       "      <td>0</td>\n",
       "      <td>0</td>\n",
       "      <td>0</td>\n",
       "      <td>0</td>\n",
       "      <td>0</td>\n",
       "      <td>...</td>\n",
       "      <td>0</td>\n",
       "      <td>0</td>\n",
       "      <td>0</td>\n",
       "      <td>0</td>\n",
       "      <td>0</td>\n",
       "      <td>0</td>\n",
       "      <td>0</td>\n",
       "      <td>0</td>\n",
       "      <td>0</td>\n",
       "      <td>342</td>\n",
       "    </tr>\n",
       "    <tr>\n",
       "      <th>4</th>\n",
       "      <td>(80005) Arvada</td>\n",
       "      <td>0</td>\n",
       "      <td>0</td>\n",
       "      <td>0</td>\n",
       "      <td>0</td>\n",
       "      <td>0</td>\n",
       "      <td>0</td>\n",
       "      <td>0</td>\n",
       "      <td>0</td>\n",
       "      <td>0</td>\n",
       "      <td>...</td>\n",
       "      <td>0</td>\n",
       "      <td>0</td>\n",
       "      <td>0</td>\n",
       "      <td>0</td>\n",
       "      <td>0</td>\n",
       "      <td>0</td>\n",
       "      <td>0</td>\n",
       "      <td>0</td>\n",
       "      <td>0</td>\n",
       "      <td>342</td>\n",
       "    </tr>\n",
       "  </tbody>\n",
       "</table>\n",
       "<p>5 rows × 277 columns</p>\n",
       "</div>"
      ],
      "text/plain": [
       "             Area  ATM  Accessories Store  Airport  Airport Terminal  \\\n",
       "0  (80001) Arvada    0                  0        0                 0   \n",
       "1  (80002) Arvada    1                  0        0                 0   \n",
       "2  (80003) Arvada    0                  0        0                 0   \n",
       "3  (80004) Arvada    0                  0        0                 0   \n",
       "4  (80005) Arvada    0                  0        0                 0   \n",
       "\n",
       "   Alternative Healer  American Restaurant  Arcade  Art Gallery  Art Museum  \\\n",
       "0                   0                    0       0            0           0   \n",
       "1                   0                    0       0            0           0   \n",
       "2                   0                    0       0            0           0   \n",
       "3                   0                    0       0            0           0   \n",
       "4                   0                    0       0            0           0   \n",
       "\n",
       "   ...  Vietnamese Restaurant  Warehouse Store  Water Park  Wine Bar  \\\n",
       "0  ...                      0                0           0         0   \n",
       "1  ...                      0                1           0         0   \n",
       "2  ...                      1                0           0         0   \n",
       "3  ...                      0                0           0         0   \n",
       "4  ...                      0                0           0         0   \n",
       "\n",
       "   Wine Shop  Wings Joint  Women's Store  Yoga Studio  Zoo Exhibit  \\\n",
       "0          0            0              0            0            0   \n",
       "1          0            2              0            1            0   \n",
       "2          0            0              0            0            0   \n",
       "3          0            0              0            0            0   \n",
       "4          0            0              0            0            0   \n",
       "\n",
       "   House price sqm  \n",
       "0              342  \n",
       "1              342  \n",
       "2              342  \n",
       "3              342  \n",
       "4              342  \n",
       "\n",
       "[5 rows x 277 columns]"
      ]
     },
     "execution_count": 222,
     "metadata": {},
     "output_type": "execute_result"
    }
   ],
   "source": [
    "df_house = df2[['Area','House price sqm']].copy()\n",
    "df3 = pd.merge(dt_grouped,df_house, on='Area')\n",
    "df3.head()"
   ]
  },
  {
   "cell_type": "markdown",
   "metadata": {},
   "source": [
    "## Data analysis"
   ]
  },
  {
   "cell_type": "markdown",
   "metadata": {},
   "source": [
    "I will start with some exploratory data analysis. First I'll make a map with marks for all the areas in my study."
   ]
  },
  {
   "cell_type": "code",
   "execution_count": 276,
   "metadata": {
    "scrolled": true
   },
   "outputs": [
    {
     "data": {
      "text/html": [
       "<div style=\"width:100%;\"><div style=\"position:relative;width:100%;height:0;padding-bottom:60%;\"><iframe src=\"about:blank\" style=\"position:absolute;width:100%;height:100%;left:0;top:0;border:none !important;\" data-html=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 onload=\"this.contentDocument.open();this.contentDocument.write(atob(this.getAttribute('data-html')));this.contentDocument.close();\" allowfullscreen webkitallowfullscreen mozallowfullscreen></iframe></div></div>"
      ],
      "text/plain": [
       "<folium.folium.Map at 0x1150ec6d0>"
      ]
     },
     "execution_count": 276,
     "metadata": {},
     "output_type": "execute_result"
    }
   ],
   "source": [
    "import folium\n",
    "\n",
    "# create map of latitude and longitude values for Westminster, the center of our search radius. \n",
    "map_dt = folium.Map(location=[39.842285, -105.043716], zoom_start=10)\n",
    "\n",
    "# add markers to map\n",
    "for lat, lng, label in zip(df2['Latitude'], df2['Longitude'], df2['Zip']):\n",
    "    label = folium.Popup(label, parse_html=True)\n",
    "    folium.CircleMarker(\n",
    "        [lat, lng],\n",
    "        radius=5,\n",
    "        popup=label,\n",
    "        color='green',\n",
    "        fill=True,\n",
    "        fill_color='#3186cc',\n",
    "        fill_opacity=0.5,\n",
    "        parse_html=False).add_to(map_dt)  \n",
    "    \n",
    "map_dt"
   ]
  },
  {
   "cell_type": "markdown",
   "metadata": {},
   "source": [
    "I also want to know what kind of venue categories were found in my area and how many of each:"
   ]
  },
  {
   "cell_type": "code",
   "execution_count": 153,
   "metadata": {},
   "outputs": [
    {
     "data": {
      "text/html": [
       "<div>\n",
       "<style scoped>\n",
       "    .dataframe tbody tr th:only-of-type {\n",
       "        vertical-align: middle;\n",
       "    }\n",
       "\n",
       "    .dataframe tbody tr th {\n",
       "        vertical-align: top;\n",
       "    }\n",
       "\n",
       "    .dataframe thead th {\n",
       "        text-align: right;\n",
       "    }\n",
       "</style>\n",
       "<table border=\"1\" class=\"dataframe\">\n",
       "  <thead>\n",
       "    <tr style=\"text-align: right;\">\n",
       "      <th></th>\n",
       "      <th>index</th>\n",
       "      <th>0</th>\n",
       "    </tr>\n",
       "  </thead>\n",
       "  <tbody>\n",
       "    <tr>\n",
       "      <th>0</th>\n",
       "      <td>Hotel</td>\n",
       "      <td>135</td>\n",
       "    </tr>\n",
       "    <tr>\n",
       "      <th>1</th>\n",
       "      <td>American Restaurant</td>\n",
       "      <td>119</td>\n",
       "    </tr>\n",
       "    <tr>\n",
       "      <th>2</th>\n",
       "      <td>Coffee Shop</td>\n",
       "      <td>119</td>\n",
       "    </tr>\n",
       "    <tr>\n",
       "      <th>3</th>\n",
       "      <td>Sandwich Place</td>\n",
       "      <td>113</td>\n",
       "    </tr>\n",
       "    <tr>\n",
       "      <th>4</th>\n",
       "      <td>Mexican Restaurant</td>\n",
       "      <td>107</td>\n",
       "    </tr>\n",
       "    <tr>\n",
       "      <th>...</th>\n",
       "      <td>...</td>\n",
       "      <td>...</td>\n",
       "    </tr>\n",
       "    <tr>\n",
       "      <th>270</th>\n",
       "      <td>Shoe Repair</td>\n",
       "      <td>1</td>\n",
       "    </tr>\n",
       "    <tr>\n",
       "      <th>271</th>\n",
       "      <td>Knitting Store</td>\n",
       "      <td>1</td>\n",
       "    </tr>\n",
       "    <tr>\n",
       "      <th>272</th>\n",
       "      <td>Sculpture Garden</td>\n",
       "      <td>1</td>\n",
       "    </tr>\n",
       "    <tr>\n",
       "      <th>273</th>\n",
       "      <td>Carpet Store</td>\n",
       "      <td>1</td>\n",
       "    </tr>\n",
       "    <tr>\n",
       "      <th>274</th>\n",
       "      <td>Buffet</td>\n",
       "      <td>1</td>\n",
       "    </tr>\n",
       "  </tbody>\n",
       "</table>\n",
       "<p>275 rows × 2 columns</p>\n",
       "</div>"
      ],
      "text/plain": [
       "                   index    0\n",
       "0                  Hotel  135\n",
       "1    American Restaurant  119\n",
       "2            Coffee Shop  119\n",
       "3         Sandwich Place  113\n",
       "4     Mexican Restaurant  107\n",
       "..                   ...  ...\n",
       "270          Shoe Repair    1\n",
       "271       Knitting Store    1\n",
       "272     Sculpture Garden    1\n",
       "273         Carpet Store    1\n",
       "274               Buffet    1\n",
       "\n",
       "[275 rows x 2 columns]"
      ]
     },
     "execution_count": 153,
     "metadata": {},
     "output_type": "execute_result"
    }
   ],
   "source": [
    "df_cat = pd.DataFrame(dt_grouped.sum(axis=0))\n",
    "df_cat.drop(index='Area', inplace=True)\n",
    "df_cat.sort_values(by=[0], ascending=False, inplace=True)\n",
    "df_cat.reset_index(drop=False, inplace=True)\n",
    "df_cat.to_csv(r'categories.csv', index = False)\n",
    "df_cat"
   ]
  },
  {
   "cell_type": "markdown",
   "metadata": {},
   "source": [
    "Seems like hotels, American restaurants, coffee shops and sandwich joints are to be found en masse. Not all that surprising. What I want next, is to be able to group these venues into my chosen set of preferences. Thus, I'll go through the list and look for keywords allowing me to group the variables."
   ]
  },
  {
   "cell_type": "code",
   "execution_count": 184,
   "metadata": {},
   "outputs": [
    {
     "name": "stdout",
     "output_type": "stream",
     "text": [
      "['Coffee Shop', 'Café', 'Tea Room', 'Pet Café']\n",
      "['American Restaurant', 'Mexican Restaurant', 'Pizza Place', 'Italian Restaurant', 'Fast Food Restaurant', 'Breakfast Spot', 'Burger Joint', 'Restaurant', 'Steakhouse', 'Asian Restaurant', 'New American Restaurant', 'Chinese Restaurant', 'Sushi Restaurant', 'Vegetarian / Vegan Restaurant', 'Vietnamese Restaurant', 'Seafood Restaurant', 'Thai Restaurant', 'Japanese Restaurant', 'Indian Restaurant', 'Mediterranean Restaurant', 'Food Truck', 'Brazilian Restaurant', 'Food', 'Greek Restaurant', 'Tex-Mex Restaurant', 'Food Court', 'German Restaurant', 'Korean Restaurant', 'Middle Eastern Restaurant', 'Cuban Restaurant', 'Caribbean Restaurant', 'Latin American Restaurant', 'Southern / Soul Food Restaurant', 'Bed & Breakfast', 'Tapas Restaurant', 'Ramen Restaurant', 'Cajun / Creole Restaurant', 'Food & Drink Shop', 'Dim Sum Restaurant', 'Hawaiian Restaurant', 'Food Service', 'French Restaurant']\n"
     ]
    }
   ],
   "source": [
    "import re\n",
    "\n",
    "#Creating groups:\n",
    "cafe = []\n",
    "restaurant = []\n",
    "bar = []\n",
    "grocery = []\n",
    "shopping = []\n",
    "park = []\n",
    "nature = []\n",
    "sports = []\n",
    "\n",
    "for ven in df_cat['index'].astype(str):\n",
    "    if re.search('café|coffee|tea ',ven, re.IGNORECASE):\n",
    "        if ven not in cafe:\n",
    "            cafe.append(ven)\n",
    "    if re.search('restaurant|pizza|food|mexican|steakhouse|burger|breakfast', ven, re.IGNORECASE):\n",
    "        if ven not in restaurant:\n",
    "            restaurant.append(ven)\n",
    "    if re.search('brewery|beer|bar|pub', ven, re.IGNORECASE):\n",
    "        if ven not in bar:\n",
    "            bar.append(ven)\n",
    "    if re.search('grocery|convenience', ven, re.IGNORECASE):\n",
    "        if ven not in grocery:\n",
    "            grocery.append(ven)\n",
    "    if re.search('shop|store', ven, re.IGNORECASE):\n",
    "        if ven not in shopping and ven not in cafe and ven not in grocery:\n",
    "            shopping.append(ven)\n",
    "    if re.search('park', ven, re.IGNORECASE):\n",
    "        if ven not in park:\n",
    "            park.append(ven)\n",
    "    if re.search('nature|trail|mountain|river', ven, re.IGNORECASE):\n",
    "        if ven not in nature:\n",
    "            nature.append(ven)\n",
    "            dogs.append(ven)\n",
    "    if re.search('yoga|tennis|gym|bike', ven, re.IGNORECASE):\n",
    "        if ven not in sports:\n",
    "            sports.append(ven)\n",
    "print(cafe)\n",
    "print(restaurant)"
   ]
  },
  {
   "cell_type": "markdown",
   "metadata": {},
   "source": [
    "Now, I want to group my Foursquare results based on the preference groups that I have just created. I will create new columns for all my preference groups and sum up how many venues in each group is to be found in each area."
   ]
  },
  {
   "cell_type": "code",
   "execution_count": 223,
   "metadata": {},
   "outputs": [],
   "source": [
    "df4 = df3\n",
    "\n",
    "df4['cafe']=df4[cafe].sum(axis = 1, skipna = True) \n",
    "df4['restaurant']=df4[restaurant].sum(axis = 1, skipna = True) \n",
    "df4['bar']=df4[bar].sum(axis = 1, skipna = True) \n",
    "df4['grocery']=df4[grocery].sum(axis = 1, skipna = True) \n",
    "df4['shopping']=df4[shopping].sum(axis = 1, skipna = True) \n",
    "df4['park']=df4[park].sum(axis = 1, skipna = True) \n",
    "df4['nature']=df4[nature].sum(axis = 1, skipna = True) \n",
    "df4['sports']=df4[sports].sum(axis = 1, skipna = True) "
   ]
  },
  {
   "cell_type": "markdown",
   "metadata": {},
   "source": [
    "Next, I create a dataframe containing just the summary statistics. "
   ]
  },
  {
   "cell_type": "code",
   "execution_count": 277,
   "metadata": {},
   "outputs": [
    {
     "data": {
      "text/html": [
       "<div>\n",
       "<style scoped>\n",
       "    .dataframe tbody tr th:only-of-type {\n",
       "        vertical-align: middle;\n",
       "    }\n",
       "\n",
       "    .dataframe tbody tr th {\n",
       "        vertical-align: top;\n",
       "    }\n",
       "\n",
       "    .dataframe thead th {\n",
       "        text-align: right;\n",
       "    }\n",
       "</style>\n",
       "<table border=\"1\" class=\"dataframe\">\n",
       "  <thead>\n",
       "    <tr style=\"text-align: right;\">\n",
       "      <th></th>\n",
       "      <th>Area</th>\n",
       "      <th>House price sqm</th>\n",
       "      <th>cafe</th>\n",
       "      <th>restaurant</th>\n",
       "      <th>bar</th>\n",
       "      <th>grocery</th>\n",
       "      <th>shopping</th>\n",
       "      <th>park</th>\n",
       "      <th>nature</th>\n",
       "      <th>sports</th>\n",
       "    </tr>\n",
       "  </thead>\n",
       "  <tbody>\n",
       "    <tr>\n",
       "      <th>0</th>\n",
       "      <td>(80001) Arvada</td>\n",
       "      <td>342</td>\n",
       "      <td>0</td>\n",
       "      <td>0</td>\n",
       "      <td>0</td>\n",
       "      <td>0</td>\n",
       "      <td>0</td>\n",
       "      <td>0</td>\n",
       "      <td>0</td>\n",
       "      <td>0</td>\n",
       "    </tr>\n",
       "    <tr>\n",
       "      <th>1</th>\n",
       "      <td>(80002) Arvada</td>\n",
       "      <td>342</td>\n",
       "      <td>3</td>\n",
       "      <td>22</td>\n",
       "      <td>4</td>\n",
       "      <td>4</td>\n",
       "      <td>16</td>\n",
       "      <td>1</td>\n",
       "      <td>0</td>\n",
       "      <td>3</td>\n",
       "    </tr>\n",
       "    <tr>\n",
       "      <th>2</th>\n",
       "      <td>(80003) Arvada</td>\n",
       "      <td>342</td>\n",
       "      <td>1</td>\n",
       "      <td>13</td>\n",
       "      <td>2</td>\n",
       "      <td>2</td>\n",
       "      <td>5</td>\n",
       "      <td>1</td>\n",
       "      <td>0</td>\n",
       "      <td>2</td>\n",
       "    </tr>\n",
       "    <tr>\n",
       "      <th>3</th>\n",
       "      <td>(80004) Arvada</td>\n",
       "      <td>342</td>\n",
       "      <td>2</td>\n",
       "      <td>8</td>\n",
       "      <td>3</td>\n",
       "      <td>4</td>\n",
       "      <td>5</td>\n",
       "      <td>0</td>\n",
       "      <td>1</td>\n",
       "      <td>1</td>\n",
       "    </tr>\n",
       "    <tr>\n",
       "      <th>4</th>\n",
       "      <td>(80005) Arvada</td>\n",
       "      <td>342</td>\n",
       "      <td>0</td>\n",
       "      <td>2</td>\n",
       "      <td>0</td>\n",
       "      <td>1</td>\n",
       "      <td>1</td>\n",
       "      <td>0</td>\n",
       "      <td>1</td>\n",
       "      <td>1</td>\n",
       "    </tr>\n",
       "  </tbody>\n",
       "</table>\n",
       "</div>"
      ],
      "text/plain": [
       "             Area  House price sqm  cafe  restaurant  bar  grocery  shopping  \\\n",
       "0  (80001) Arvada              342     0           0    0        0         0   \n",
       "1  (80002) Arvada              342     3          22    4        4        16   \n",
       "2  (80003) Arvada              342     1          13    2        2         5   \n",
       "3  (80004) Arvada              342     2           8    3        4         5   \n",
       "4  (80005) Arvada              342     0           2    0        1         1   \n",
       "\n",
       "   park  nature  sports  \n",
       "0     0       0       0  \n",
       "1     1       0       3  \n",
       "2     1       0       2  \n",
       "3     0       1       1  \n",
       "4     0       1       1  "
      ]
     },
     "execution_count": 277,
     "metadata": {},
     "output_type": "execute_result"
    }
   ],
   "source": [
    "df5 = df4[['Area','House price sqm','cafe','restaurant','bar','grocery','shopping','park','nature','sports']].copy()\n",
    "df5.to_csv(r'results.csv', index = False)\n",
    "df5.head()"
   ]
  },
  {
   "cell_type": "markdown",
   "metadata": {},
   "source": [
    "Now, I want to start filtering my areas. First, I'll filter out any areas not containing at least one of *each* of my preferences. "
   ]
  },
  {
   "cell_type": "code",
   "execution_count": 275,
   "metadata": {},
   "outputs": [
    {
     "data": {
      "text/html": [
       "<div>\n",
       "<style scoped>\n",
       "    .dataframe tbody tr th:only-of-type {\n",
       "        vertical-align: middle;\n",
       "    }\n",
       "\n",
       "    .dataframe tbody tr th {\n",
       "        vertical-align: top;\n",
       "    }\n",
       "\n",
       "    .dataframe thead th {\n",
       "        text-align: right;\n",
       "    }\n",
       "</style>\n",
       "<table border=\"1\" class=\"dataframe\">\n",
       "  <thead>\n",
       "    <tr style=\"text-align: right;\">\n",
       "      <th></th>\n",
       "      <th>Area</th>\n",
       "      <th>House price sqm</th>\n",
       "      <th>cafe</th>\n",
       "      <th>restaurant</th>\n",
       "      <th>bar</th>\n",
       "      <th>grocery</th>\n",
       "      <th>shopping</th>\n",
       "      <th>park</th>\n",
       "      <th>nature</th>\n",
       "      <th>sports</th>\n",
       "    </tr>\n",
       "  </thead>\n",
       "  <tbody>\n",
       "    <tr>\n",
       "      <th>8</th>\n",
       "      <td>(80021) Broomfield</td>\n",
       "      <td>269</td>\n",
       "      <td>1</td>\n",
       "      <td>7</td>\n",
       "      <td>2</td>\n",
       "      <td>3</td>\n",
       "      <td>6</td>\n",
       "      <td>2</td>\n",
       "      <td>3</td>\n",
       "      <td>2</td>\n",
       "    </tr>\n",
       "    <tr>\n",
       "      <th>10</th>\n",
       "      <td>(80026) Lafayette</td>\n",
       "      <td>481</td>\n",
       "      <td>7</td>\n",
       "      <td>13</td>\n",
       "      <td>6</td>\n",
       "      <td>2</td>\n",
       "      <td>6</td>\n",
       "      <td>1</td>\n",
       "      <td>2</td>\n",
       "      <td>1</td>\n",
       "    </tr>\n",
       "    <tr>\n",
       "      <th>18</th>\n",
       "      <td>(80203) Denver</td>\n",
       "      <td>446</td>\n",
       "      <td>5</td>\n",
       "      <td>32</td>\n",
       "      <td>14</td>\n",
       "      <td>2</td>\n",
       "      <td>12</td>\n",
       "      <td>1</td>\n",
       "      <td>1</td>\n",
       "      <td>5</td>\n",
       "    </tr>\n",
       "    <tr>\n",
       "      <th>20</th>\n",
       "      <td>(80205) Denver</td>\n",
       "      <td>446</td>\n",
       "      <td>7</td>\n",
       "      <td>20</td>\n",
       "      <td>18</td>\n",
       "      <td>4</td>\n",
       "      <td>9</td>\n",
       "      <td>3</td>\n",
       "      <td>1</td>\n",
       "      <td>1</td>\n",
       "    </tr>\n",
       "    <tr>\n",
       "      <th>53</th>\n",
       "      <td>(80273) Denver</td>\n",
       "      <td>446</td>\n",
       "      <td>8</td>\n",
       "      <td>29</td>\n",
       "      <td>17</td>\n",
       "      <td>2</td>\n",
       "      <td>17</td>\n",
       "      <td>1</td>\n",
       "      <td>1</td>\n",
       "      <td>6</td>\n",
       "    </tr>\n",
       "    <tr>\n",
       "      <th>64</th>\n",
       "      <td>(80305) Boulder</td>\n",
       "      <td>778</td>\n",
       "      <td>4</td>\n",
       "      <td>7</td>\n",
       "      <td>3</td>\n",
       "      <td>2</td>\n",
       "      <td>8</td>\n",
       "      <td>2</td>\n",
       "      <td>2</td>\n",
       "      <td>3</td>\n",
       "    </tr>\n",
       "    <tr>\n",
       "      <th>66</th>\n",
       "      <td>(80401) Golden</td>\n",
       "      <td>725</td>\n",
       "      <td>2</td>\n",
       "      <td>18</td>\n",
       "      <td>2</td>\n",
       "      <td>2</td>\n",
       "      <td>14</td>\n",
       "      <td>1</td>\n",
       "      <td>1</td>\n",
       "      <td>2</td>\n",
       "    </tr>\n",
       "  </tbody>\n",
       "</table>\n",
       "</div>"
      ],
      "text/plain": [
       "                  Area  House price sqm  cafe  restaurant  bar  grocery  \\\n",
       "8   (80021) Broomfield              269     1           7    2        3   \n",
       "10   (80026) Lafayette              481     7          13    6        2   \n",
       "18      (80203) Denver              446     5          32   14        2   \n",
       "20      (80205) Denver              446     7          20   18        4   \n",
       "53      (80273) Denver              446     8          29   17        2   \n",
       "64     (80305) Boulder              778     4           7    3        2   \n",
       "66      (80401) Golden              725     2          18    2        2   \n",
       "\n",
       "    shopping  park  nature  sports  \n",
       "8          6     2       3       2  \n",
       "10         6     1       2       1  \n",
       "18        12     1       1       5  \n",
       "20         9     3       1       1  \n",
       "53        17     1       1       6  \n",
       "64         8     2       2       3  \n",
       "66        14     1       1       2  "
      ]
     },
     "execution_count": 275,
     "metadata": {},
     "output_type": "execute_result"
    }
   ],
   "source": [
    "df6 = df5\n",
    "\n",
    "df6.drop(df6.loc[df6['cafe']==0].index, inplace=True)\n",
    "df6.drop(df6.loc[df6['restaurant']==0].index, inplace=True)\n",
    "df6.drop(df6.loc[df6['bar']==0].index, inplace=True)\n",
    "df6.drop(df6.loc[df6['grocery']==0].index, inplace=True)\n",
    "df6.drop(df6.loc[df6['shopping']==0].index, inplace=True)\n",
    "df6.drop(df6.loc[df6['park']==0].index, inplace=True)\n",
    "df6.drop(df6.loc[df6['nature']==0].index, inplace=True)\n",
    "df6.drop(df6.loc[df6['sports']==0].index, inplace=True)\n",
    "\n",
    "df6"
   ]
  },
  {
   "cell_type": "markdown",
   "metadata": {},
   "source": [
    "As can be seen from the table above, I have narrowed down my search to seven different zip codes, locaed in Broomfield, Lafayette, Denver, Boulder and Golden. Cool. I want to see my proposed living locations:"
   ]
  },
  {
   "cell_type": "code",
   "execution_count": 229,
   "metadata": {},
   "outputs": [],
   "source": [
    "#Merge dataset with dataset containing geolocations\n",
    "df7 = pd.merge(df6,df2, on='Area')"
   ]
  },
  {
   "cell_type": "code",
   "execution_count": 234,
   "metadata": {},
   "outputs": [
    {
     "data": {
      "text/html": [
       "<div style=\"width:100%;\"><div style=\"position:relative;width:100%;height:0;padding-bottom:60%;\"><iframe src=\"about:blank\" style=\"position:absolute;width:100%;height:100%;left:0;top:0;border:none !important;\" data-html=PCFET0NUWVBFIGh0bWw+CjxoZWFkPiAgICAKICAgIDxtZXRhIGh0dHAtZXF1aXY9ImNvbnRlbnQtdHlwZSIgY29udGVudD0idGV4dC9odG1sOyBjaGFyc2V0PVVURi04IiAvPgogICAgCiAgICAgICAgPHNjcmlwdD4KICAgICAgICAgICAgTF9OT19UT1VDSCA9IGZhbHNlOwogICAgICAgICAgICBMX0RJU0FCTEVfM0QgPSBmYWxzZTsKICAgICAgICA8L3NjcmlwdD4KICAgIAogICAgPHNjcmlwdCBzcmM9Imh0dHBzOi8vY2RuLmpzZGVsaXZyLm5ldC9ucG0vbGVhZmxldEAxLjUuMS9kaXN0L2xlYWZsZXQuanMiPjwvc2NyaXB0PgogICAgPHNjcmlwdCBzcmM9Imh0dHBzOi8vY29kZS5qcXVlcnkuY29tL2pxdWVyeS0xLjEyLjQubWluLmpzIj48L3NjcmlwdD4KICAgIDxzY3JpcHQgc3JjPSJodHRwczovL21heGNkbi5ib290c3RyYXBjZG4uY29tL2Jvb3RzdHJhcC8zLjIuMC9qcy9ib290c3RyYXAubWluLmpzIj48L3NjcmlwdD4KICAgIDxzY3JpcHQgc3JjPSJodHRwczovL2NkbmpzLmNsb3VkZmxhcmUuY29tL2FqYXgvbGlicy9MZWFmbGV0LmF3ZXNvbWUtbWFya2Vycy8yLjAuMi9sZWFmbGV0LmF3ZXNvbWUtbWFya2Vycy5qcyI+PC9zY3JpcHQ+CiAgICA8bGluayByZWw9InN0eWxlc2hlZXQiIGhyZWY9Imh0dHBzOi8vY2RuLmpzZGVsaXZyLm5ldC9ucG0vbGVhZmxldEAxLjUuMS9kaXN0L2xlYWZsZXQuY3NzIi8+CiAgICA8bGluayByZWw9InN0eWxlc2hlZXQiIGhyZWY9Imh0dHBzOi8vbWF4Y2RuLmJvb3RzdHJhcGNkbi5jb20vYm9vdHN0cmFwLzMuMi4wL2Nzcy9ib290c3RyYXAubWluLmNzcyIvPgogICAgPGxpbmsgcmVsPSJzdHlsZXNoZWV0IiBocmVmPSJodHRwczovL21heGNkbi5ib290c3RyYXBjZG4uY29tL2Jvb3RzdHJhcC8zLjIuMC9jc3MvYm9vdHN0cmFwLXRoZW1lLm1pbi5jc3MiLz4KICAgIDxsaW5rIHJlbD0ic3R5bGVzaGVldCIgaHJlZj0iaHR0cHM6Ly9tYXhjZG4uYm9vdHN0cmFwY2RuLmNvbS9mb250LWF3ZXNvbWUvNC42LjMvY3NzL2ZvbnQtYXdlc29tZS5taW4uY3NzIi8+CiAgICA8bGluayByZWw9InN0eWxlc2hlZXQiIGhyZWY9Imh0dHBzOi8vY2RuanMuY2xvdWRmbGFyZS5jb20vYWpheC9saWJzL0xlYWZsZXQuYXdlc29tZS1tYXJrZXJzLzIuMC4yL2xlYWZsZXQuYXdlc29tZS1tYXJrZXJzLmNzcyIvPgogICAgPGxpbmsgcmVsPSJzdHlsZXNoZWV0IiBocmVmPSJodHRwczovL3Jhd2Nkbi5naXRoYWNrLmNvbS9weXRob24tdmlzdWFsaXphdGlvbi9mb2xpdW0vbWFzdGVyL2ZvbGl1bS90ZW1wbGF0ZXMvbGVhZmxldC5hd2Vzb21lLnJvdGF0ZS5jc3MiLz4KICAgIDxzdHlsZT5odG1sLCBib2R5IHt3aWR0aDogMTAwJTtoZWlnaHQ6IDEwMCU7bWFyZ2luOiAwO3BhZGRpbmc6IDA7fTwvc3R5bGU+CiAgICA8c3R5bGU+I21hcCB7cG9zaXRpb246YWJzb2x1dGU7dG9wOjA7Ym90dG9tOjA7cmlnaHQ6MDtsZWZ0OjA7fTwvc3R5bGU+CiAgICAKICAgICAgICAgICAgPG1ldGEgbmFtZT0idmlld3BvcnQiIGNvbnRlbnQ9IndpZHRoPWRldmljZS13aWR0aCwKICAgICAgICAgICAgICAgIGluaXRpYWwtc2NhbGU9MS4wLCBtYXhpbXVtLXNjYWxlPTEuMCwgdXNlci1zY2FsYWJsZT1ubyIgLz4KICAgICAgICAgICAgPHN0eWxlPgogICAgICAgICAgICAgICAgI21hcF8yODFkNmU2OTRhZWE0ZTI1YTZkN2IxNzI0NjI0YmE0ZSB7CiAgICAgICAgICAgICAgICAgICAgcG9zaXRpb246IHJlbGF0aXZlOwogICAgICAgICAgICAgICAgICAgIHdpZHRoOiAxMDAuMCU7CiAgICAgICAgICAgICAgICAgICAgaGVpZ2h0OiAxMDAuMCU7CiAgICAgICAgICAgICAgICAgICAgbGVmdDogMC4wJTsKICAgICAgICAgICAgICAgICAgICB0b3A6IDAuMCU7CiAgICAgICAgICAgICAgICB9CiAgICAgICAgICAgIDwvc3R5bGU+CiAgICAgICAgCjwvaGVhZD4KPGJvZHk+ICAgIAogICAgCiAgICAgICAgICAgIDxkaXYgY2xhc3M9ImZvbGl1bS1tYXAiIGlkPSJtYXBfMjgxZDZlNjk0YWVhNGUyNWE2ZDdiMTcyNDYyNGJhNGUiID48L2Rpdj4KICAgICAgICAKPC9ib2R5Pgo8c2NyaXB0PiAgICAKICAgIAogICAgICAgICAgICB2YXIgbWFwXzI4MWQ2ZTY5NGFlYTRlMjVhNmQ3YjE3MjQ2MjRiYTRlID0gTC5tYXAoCiAgICAgICAgICAgICAgICAibWFwXzI4MWQ2ZTY5NGFlYTRlMjVhNmQ3YjE3MjQ2MjRiYTRlIiwKICAgICAgICAgICAgICAgIHsKICAgICAgICAgICAgICAgICAgICBjZW50ZXI6IFszOS44NDIyODUsIC0xMDUuMDQzNzE2XSwKICAgICAgICAgICAgICAgICAgICBjcnM6IEwuQ1JTLkVQU0czODU3LAogICAgICAgICAgICAgICAgICAgIHpvb206IDEwLAogICAgICAgICAgICAgICAgICAgIHpvb21Db250cm9sOiB0cnVlLAogICAgICAgICAgICAgICAgICAgIHByZWZlckNhbnZhczogZmFsc2UsCiAgICAgICAgICAgICAgICB9CiAgICAgICAgICAgICk7CgogICAgICAgICAgICAKCiAgICAgICAgCiAgICAKICAgICAgICAgICAgdmFyIHRpbGVfbGF5ZXJfMWJkNTQ5M2JhNjU4NDA4ZmI5MWU4YmQ4MTYzZDQxNjEgPSBMLnRpbGVMYXllcigKICAgICAgICAgICAgICAgICJodHRwczovL3tzfS50aWxlLm9wZW5zdHJlZXRtYXAub3JnL3t6fS97eH0ve3l9LnBuZyIsCiAgICAgICAgICAgICAgICB7ImF0dHJpYnV0aW9uIjogIkRhdGEgYnkgXHUwMDI2Y29weTsgXHUwMDNjYSBocmVmPVwiaHR0cDovL29wZW5zdHJlZXRtYXAub3JnXCJcdTAwM2VPcGVuU3RyZWV0TWFwXHUwMDNjL2FcdTAwM2UsIHVuZGVyIFx1MDAzY2EgaHJlZj1cImh0dHA6Ly93d3cub3BlbnN0cmVldG1hcC5vcmcvY29weXJpZ2h0XCJcdTAwM2VPRGJMXHUwMDNjL2FcdTAwM2UuIiwgImRldGVjdFJldGluYSI6IGZhbHNlLCAibWF4TmF0aXZlWm9vbSI6IDE4LCAibWF4Wm9vbSI6IDE4LCAibWluWm9vbSI6IDAsICJub1dyYXAiOiBmYWxzZSwgIm9wYWNpdHkiOiAxLCAic3ViZG9tYWlucyI6ICJhYmMiLCAidG1zIjogZmFsc2V9CiAgICAgICAgICAgICkuYWRkVG8obWFwXzI4MWQ2ZTY5NGFlYTRlMjVhNmQ3YjE3MjQ2MjRiYTRlKTsKICAgICAgICAKICAgIAogICAgICAgICAgICB2YXIgY2lyY2xlX21hcmtlcl8zOWIzMDRkNzJmMzg0MjVmOTgyMjU5MzZkMmFjNWM0ZiA9IEwuY2lyY2xlTWFya2VyKAogICAgICAgICAgICAgICAgWzM5Ljg4MTYwOCwgLTEwNS4wOTk1M10sCiAgICAgICAgICAgICAgICB7ImJ1YmJsaW5nTW91c2VFdmVudHMiOiB0cnVlLCAiY29sb3IiOiAiZ3JlZW4iLCAiZGFzaEFycmF5IjogbnVsbCwgImRhc2hPZmZzZXQiOiBudWxsLCAiZmlsbCI6IHRydWUsICJmaWxsQ29sb3IiOiAiIzMxODZjYyIsICJmaWxsT3BhY2l0eSI6IDAuNSwgImZpbGxSdWxlIjogImV2ZW5vZGQiLCAibGluZUNhcCI6ICJyb3VuZCIsICJsaW5lSm9pbiI6ICJyb3VuZCIsICJvcGFjaXR5IjogMS4wLCAicmFkaXVzIjogNSwgInN0cm9rZSI6IHRydWUsICJ3ZWlnaHQiOiAzfQogICAgICAgICAgICApLmFkZFRvKG1hcF8yODFkNmU2OTRhZWE0ZTI1YTZkN2IxNzI0NjI0YmE0ZSk7CiAgICAgICAgCiAgICAKICAgICAgICB2YXIgcG9wdXBfOTM5NTQ0NGM3YTI2NDY1MmIxZThhMjM2NmVhYmFkOGYgPSBMLnBvcHVwKHsibWF4V2lkdGgiOiAiMTAwJSJ9KTsKCiAgICAgICAgCiAgICAgICAgICAgIHZhciBodG1sXzNhMGQzNGEwYWM5OTQwZTZhNmE3Yjg4OTZjMDYyZWY4ID0gJChgPGRpdiBpZD0iaHRtbF8zYTBkMzRhMGFjOTk0MGU2YTZhN2I4ODk2YzA2MmVmOCIgc3R5bGU9IndpZHRoOiAxMDAuMCU7IGhlaWdodDogMTAwLjAlOyI+KDgwMDIxKSBCcm9vbWZpZWxkPC9kaXY+YClbMF07CiAgICAgICAgICAgIHBvcHVwXzkzOTU0NDRjN2EyNjQ2NTJiMWU4YTIzNjZlYWJhZDhmLnNldENvbnRlbnQoaHRtbF8zYTBkMzRhMGFjOTk0MGU2YTZhN2I4ODk2YzA2MmVmOCk7CiAgICAgICAgCgogICAgICAgIGNpcmNsZV9tYXJrZXJfMzliMzA0ZDcyZjM4NDI1Zjk4MjI1OTM2ZDJhYzVjNGYuYmluZFBvcHVwKHBvcHVwXzkzOTU0NDRjN2EyNjQ2NTJiMWU4YTIzNjZlYWJhZDhmKQogICAgICAgIDsKCiAgICAgICAgCiAgICAKICAgIAogICAgICAgICAgICB2YXIgY2lyY2xlX21hcmtlcl81NzJiZjI1ZWMxYTU0ODhmOTYzOGI1NDg2YWRiM2ZmMSA9IEwuY2lyY2xlTWFya2VyKAogICAgICAgICAgICAgICAgWzQwLjAwMjE1NiwgLTEwNS4xMDAzNjAwMDAwMDAwMV0sCiAgICAgICAgICAgICAgICB7ImJ1YmJsaW5nTW91c2VFdmVudHMiOiB0cnVlLCAiY29sb3IiOiAiZ3JlZW4iLCAiZGFzaEFycmF5IjogbnVsbCwgImRhc2hPZmZzZXQiOiBudWxsLCAiZmlsbCI6IHRydWUsICJmaWxsQ29sb3IiOiAiIzMxODZjYyIsICJmaWxsT3BhY2l0eSI6IDAuNSwgImZpbGxSdWxlIjogImV2ZW5vZGQiLCAibGluZUNhcCI6ICJyb3VuZCIsICJsaW5lSm9pbiI6ICJyb3VuZCIsICJvcGFjaXR5IjogMS4wLCAicmFkaXVzIjogNSwgInN0cm9rZSI6IHRydWUsICJ3ZWlnaHQiOiAzfQogICAgICAgICAgICApLmFkZFRvKG1hcF8yODFkNmU2OTRhZWE0ZTI1YTZkN2IxNzI0NjI0YmE0ZSk7CiAgICAgICAgCiAgICAKICAgICAgICB2YXIgcG9wdXBfZDA1OTg5MTY1MDhhNGFlZGJkYWZmNDQ2MjhlNzAzYTIgPSBMLnBvcHVwKHsibWF4V2lkdGgiOiAiMTAwJSJ9KTsKCiAgICAgICAgCiAgICAgICAgICAgIHZhciBodG1sXzc2MjYxYWE2YjhjZjRlMzliYmE5ZjQ4ZmRjM2Q2NDQ5ID0gJChgPGRpdiBpZD0iaHRtbF83NjI2MWFhNmI4Y2Y0ZTM5YmJhOWY0OGZkYzNkNjQ0OSIgc3R5bGU9IndpZHRoOiAxMDAuMCU7IGhlaWdodDogMTAwLjAlOyI+KDgwMDI2KSBMYWZheWV0dGU8L2Rpdj5gKVswXTsKICAgICAgICAgICAgcG9wdXBfZDA1OTg5MTY1MDhhNGFlZGJkYWZmNDQ2MjhlNzAzYTIuc2V0Q29udGVudChodG1sXzc2MjYxYWE2YjhjZjRlMzliYmE5ZjQ4ZmRjM2Q2NDQ5KTsKICAgICAgICAKCiAgICAgICAgY2lyY2xlX21hcmtlcl81NzJiZjI1ZWMxYTU0ODhmOTYzOGI1NDg2YWRiM2ZmMS5iaW5kUG9wdXAocG9wdXBfZDA1OTg5MTY1MDhhNGFlZGJkYWZmNDQ2MjhlNzAzYTIpCiAgICAgICAgOwoKICAgICAgICAKICAgIAogICAgCiAgICAgICAgICAgIHZhciBjaXJjbGVfbWFya2VyXzU1MmFhZGEwZjVhMDRjY2ViOGZlZmQxNTZjYWM3NzNlID0gTC5jaXJjbGVNYXJrZXIoCiAgICAgICAgICAgICAgICBbMzkuNzMxMjg2LCAtMTA0Ljk4MzA2MDAwMDAwMDAxXSwKICAgICAgICAgICAgICAgIHsiYnViYmxpbmdNb3VzZUV2ZW50cyI6IHRydWUsICJjb2xvciI6ICJncmVlbiIsICJkYXNoQXJyYXkiOiBudWxsLCAiZGFzaE9mZnNldCI6IG51bGwsICJmaWxsIjogdHJ1ZSwgImZpbGxDb2xvciI6ICIjMzE4NmNjIiwgImZpbGxPcGFjaXR5IjogMC41LCAiZmlsbFJ1bGUiOiAiZXZlbm9kZCIsICJsaW5lQ2FwIjogInJvdW5kIiwgImxpbmVKb2luIjogInJvdW5kIiwgIm9wYWNpdHkiOiAxLjAsICJyYWRpdXMiOiA1LCAic3Ryb2tlIjogdHJ1ZSwgIndlaWdodCI6IDN9CiAgICAgICAgICAgICkuYWRkVG8obWFwXzI4MWQ2ZTY5NGFlYTRlMjVhNmQ3YjE3MjQ2MjRiYTRlKTsKICAgICAgICAKICAgIAogICAgICAgIHZhciBwb3B1cF8zNDA4MTRkMzE4MDg0MGExOTFjMzU0YWMwZTVlYzQxNSA9IEwucG9wdXAoeyJtYXhXaWR0aCI6ICIxMDAlIn0pOwoKICAgICAgICAKICAgICAgICAgICAgdmFyIGh0bWxfNGExNTkzNDMzM2MzNGQ4MDg5ODUzYTJhMTI4YTRhOGYgPSAkKGA8ZGl2IGlkPSJodG1sXzRhMTU5MzQzMzNjMzRkODA4OTg1M2EyYTEyOGE0YThmIiBzdHlsZT0id2lkdGg6IDEwMC4wJTsgaGVpZ2h0OiAxMDAuMCU7Ij4oODAyMDMpIERlbnZlcjwvZGl2PmApWzBdOwogICAgICAgICAgICBwb3B1cF8zNDA4MTRkMzE4MDg0MGExOTFjMzU0YWMwZTVlYzQxNS5zZXRDb250ZW50KGh0bWxfNGExNTkzNDMzM2MzNGQ4MDg5ODUzYTJhMTI4YTRhOGYpOwogICAgICAgIAoKICAgICAgICBjaXJjbGVfbWFya2VyXzU1MmFhZGEwZjVhMDRjY2ViOGZlZmQxNTZjYWM3NzNlLmJpbmRQb3B1cChwb3B1cF8zNDA4MTRkMzE4MDg0MGExOTFjMzU0YWMwZTVlYzQxNSkKICAgICAgICA7CgogICAgICAgIAogICAgCiAgICAKICAgICAgICAgICAgdmFyIGNpcmNsZV9tYXJrZXJfOWI0YjE3NGE2OGY4NDJlMWI3NmQ1MzBhMmZjYmNhN2YgPSBMLmNpcmNsZU1hcmtlcigKICAgICAgICAgICAgICAgIFszOS43NTg5ODYsIC0xMDQuOTY2NzhdLAogICAgICAgICAgICAgICAgeyJidWJibGluZ01vdXNlRXZlbnRzIjogdHJ1ZSwgImNvbG9yIjogImdyZWVuIiwgImRhc2hBcnJheSI6IG51bGwsICJkYXNoT2Zmc2V0IjogbnVsbCwgImZpbGwiOiB0cnVlLCAiZmlsbENvbG9yIjogIiMzMTg2Y2MiLCAiZmlsbE9wYWNpdHkiOiAwLjUsICJmaWxsUnVsZSI6ICJldmVub2RkIiwgImxpbmVDYXAiOiAicm91bmQiLCAibGluZUpvaW4iOiAicm91bmQiLCAib3BhY2l0eSI6IDEuMCwgInJhZGl1cyI6IDUsICJzdHJva2UiOiB0cnVlLCAid2VpZ2h0IjogM30KICAgICAgICAgICAgKS5hZGRUbyhtYXBfMjgxZDZlNjk0YWVhNGUyNWE2ZDdiMTcyNDYyNGJhNGUpOwogICAgICAgIAogICAgCiAgICAgICAgdmFyIHBvcHVwXzVkMzkxMzkxNTAwNDRhMmNhZDNlYjg5NmNlZjA4ZDViID0gTC5wb3B1cCh7Im1heFdpZHRoIjogIjEwMCUifSk7CgogICAgICAgIAogICAgICAgICAgICB2YXIgaHRtbF8wMDYyMTRkNzk0NGE0OGU1YjIyNDgzYTg0MmNhMTM2YSA9ICQoYDxkaXYgaWQ9Imh0bWxfMDA2MjE0ZDc5NDRhNDhlNWIyMjQ4M2E4NDJjYTEzNmEiIHN0eWxlPSJ3aWR0aDogMTAwLjAlOyBoZWlnaHQ6IDEwMC4wJTsiPig4MDIwNSkgRGVudmVyPC9kaXY+YClbMF07CiAgICAgICAgICAgIHBvcHVwXzVkMzkxMzkxNTAwNDRhMmNhZDNlYjg5NmNlZjA4ZDViLnNldENvbnRlbnQoaHRtbF8wMDYyMTRkNzk0NGE0OGU1YjIyNDgzYTg0MmNhMTM2YSk7CiAgICAgICAgCgogICAgICAgIGNpcmNsZV9tYXJrZXJfOWI0YjE3NGE2OGY4NDJlMWI3NmQ1MzBhMmZjYmNhN2YuYmluZFBvcHVwKHBvcHVwXzVkMzkxMzkxNTAwNDRhMmNhZDNlYjg5NmNlZjA4ZDViKQogICAgICAgIDsKCiAgICAgICAgCiAgICAKICAgIAogICAgICAgICAgICB2YXIgY2lyY2xlX21hcmtlcl8wMDFmOTM2OTRiODY0MmU1YWZkZjM0ZGQ0YWUwNzJjZSA9IEwuY2lyY2xlTWFya2VyKAogICAgICAgICAgICAgICAgWzM5LjcyNzI5Mjk5OTk5OTk5NiwgLTEwNC45ODc1MzUwMDAwMDAwMV0sCiAgICAgICAgICAgICAgICB7ImJ1YmJsaW5nTW91c2VFdmVudHMiOiB0cnVlLCAiY29sb3IiOiAiZ3JlZW4iLCAiZGFzaEFycmF5IjogbnVsbCwgImRhc2hPZmZzZXQiOiBudWxsLCAiZmlsbCI6IHRydWUsICJmaWxsQ29sb3IiOiAiIzMxODZjYyIsICJmaWxsT3BhY2l0eSI6IDAuNSwgImZpbGxSdWxlIjogImV2ZW5vZGQiLCAibGluZUNhcCI6ICJyb3VuZCIsICJsaW5lSm9pbiI6ICJyb3VuZCIsICJvcGFjaXR5IjogMS4wLCAicmFkaXVzIjogNSwgInN0cm9rZSI6IHRydWUsICJ3ZWlnaHQiOiAzfQogICAgICAgICAgICApLmFkZFRvKG1hcF8yODFkNmU2OTRhZWE0ZTI1YTZkN2IxNzI0NjI0YmE0ZSk7CiAgICAgICAgCiAgICAKICAgICAgICB2YXIgcG9wdXBfOWE5ZWE0MzU0MDViNDg2Mzk3ZWVmYzVhNzczOGNlMDMgPSBMLnBvcHVwKHsibWF4V2lkdGgiOiAiMTAwJSJ9KTsKCiAgICAgICAgCiAgICAgICAgICAgIHZhciBodG1sX2E1NGRkM2RhMmZmYzQwNTY5NzQwNDEwNDg4ZGRhODU2ID0gJChgPGRpdiBpZD0iaHRtbF9hNTRkZDNkYTJmZmM0MDU2OTc0MDQxMDQ4OGRkYTg1NiIgc3R5bGU9IndpZHRoOiAxMDAuMCU7IGhlaWdodDogMTAwLjAlOyI+KDgwMjczKSBEZW52ZXI8L2Rpdj5gKVswXTsKICAgICAgICAgICAgcG9wdXBfOWE5ZWE0MzU0MDViNDg2Mzk3ZWVmYzVhNzczOGNlMDMuc2V0Q29udGVudChodG1sX2E1NGRkM2RhMmZmYzQwNTY5NzQwNDEwNDg4ZGRhODU2KTsKICAgICAgICAKCiAgICAgICAgY2lyY2xlX21hcmtlcl8wMDFmOTM2OTRiODY0MmU1YWZkZjM0ZGQ0YWUwNzJjZS5iaW5kUG9wdXAocG9wdXBfOWE5ZWE0MzU0MDViNDg2Mzk3ZWVmYzVhNzczOGNlMDMpCiAgICAgICAgOwoKICAgICAgICAKICAgIAogICAgCiAgICAgICAgICAgIHZhciBjaXJjbGVfbWFya2VyXzUxMzMwZjdmNWZjMjRjNDM5Nzc4MWI3ZmE3ZjRjNDZiID0gTC5jaXJjbGVNYXJrZXIoCiAgICAgICAgICAgICAgICBbMzkuOTc5NjkwOTk5OTk5OTk1LCAtMTA1LjI1MjU4NjAwMDAwMDAxXSwKICAgICAgICAgICAgICAgIHsiYnViYmxpbmdNb3VzZUV2ZW50cyI6IHRydWUsICJjb2xvciI6ICJncmVlbiIsICJkYXNoQXJyYXkiOiBudWxsLCAiZGFzaE9mZnNldCI6IG51bGwsICJmaWxsIjogdHJ1ZSwgImZpbGxDb2xvciI6ICIjMzE4NmNjIiwgImZpbGxPcGFjaXR5IjogMC41LCAiZmlsbFJ1bGUiOiAiZXZlbm9kZCIsICJsaW5lQ2FwIjogInJvdW5kIiwgImxpbmVKb2luIjogInJvdW5kIiwgIm9wYWNpdHkiOiAxLjAsICJyYWRpdXMiOiA1LCAic3Ryb2tlIjogdHJ1ZSwgIndlaWdodCI6IDN9CiAgICAgICAgICAgICkuYWRkVG8obWFwXzI4MWQ2ZTY5NGFlYTRlMjVhNmQ3YjE3MjQ2MjRiYTRlKTsKICAgICAgICAKICAgIAogICAgICAgIHZhciBwb3B1cF9hYTNmZjYyNTNhY2E0NTRlYmQ0NDdlOWU2OTdhZmYyZSA9IEwucG9wdXAoeyJtYXhXaWR0aCI6ICIxMDAlIn0pOwoKICAgICAgICAKICAgICAgICAgICAgdmFyIGh0bWxfNjVmMzJjYTRmY2E4NDhmZGE5NTVjNjg4OGVlNDQ2NjUgPSAkKGA8ZGl2IGlkPSJodG1sXzY1ZjMyY2E0ZmNhODQ4ZmRhOTU1YzY4ODhlZTQ0NjY1IiBzdHlsZT0id2lkdGg6IDEwMC4wJTsgaGVpZ2h0OiAxMDAuMCU7Ij4oODAzMDUpIEJvdWxkZXI8L2Rpdj5gKVswXTsKICAgICAgICAgICAgcG9wdXBfYWEzZmY2MjUzYWNhNDU0ZWJkNDQ3ZTllNjk3YWZmMmUuc2V0Q29udGVudChodG1sXzY1ZjMyY2E0ZmNhODQ4ZmRhOTU1YzY4ODhlZTQ0NjY1KTsKICAgICAgICAKCiAgICAgICAgY2lyY2xlX21hcmtlcl81MTMzMGY3ZjVmYzI0YzQzOTc3ODFiN2ZhN2Y0YzQ2Yi5iaW5kUG9wdXAocG9wdXBfYWEzZmY2MjUzYWNhNDU0ZWJkNDQ3ZTllNjk3YWZmMmUpCiAgICAgICAgOwoKICAgICAgICAKICAgIAogICAgCiAgICAgICAgICAgIHZhciBjaXJjbGVfbWFya2VyXzc2MTA1Y2E2NDM3OTQ0NmI5ZjE3NzdlN2I2MDU1Y2JkID0gTC5jaXJjbGVNYXJrZXIoCiAgICAgICAgICAgICAgICBbMzkuNzM1NzQ1LCAtMTA1LjE5MzM3XSwKICAgICAgICAgICAgICAgIHsiYnViYmxpbmdNb3VzZUV2ZW50cyI6IHRydWUsICJjb2xvciI6ICJncmVlbiIsICJkYXNoQXJyYXkiOiBudWxsLCAiZGFzaE9mZnNldCI6IG51bGwsICJmaWxsIjogdHJ1ZSwgImZpbGxDb2xvciI6ICIjMzE4NmNjIiwgImZpbGxPcGFjaXR5IjogMC41LCAiZmlsbFJ1bGUiOiAiZXZlbm9kZCIsICJsaW5lQ2FwIjogInJvdW5kIiwgImxpbmVKb2luIjogInJvdW5kIiwgIm9wYWNpdHkiOiAxLjAsICJyYWRpdXMiOiA1LCAic3Ryb2tlIjogdHJ1ZSwgIndlaWdodCI6IDN9CiAgICAgICAgICAgICkuYWRkVG8obWFwXzI4MWQ2ZTY5NGFlYTRlMjVhNmQ3YjE3MjQ2MjRiYTRlKTsKICAgICAgICAKICAgIAogICAgICAgIHZhciBwb3B1cF9kODIyYjk3ZjhlZjI0MDI2YjQxNDlkMzA1OGIxNDk5MCA9IEwucG9wdXAoeyJtYXhXaWR0aCI6ICIxMDAlIn0pOwoKICAgICAgICAKICAgICAgICAgICAgdmFyIGh0bWxfNjg0YmMzZjc0NDU0NGE5NDgwNGNjNTc5MWQ3ZWJiMzkgPSAkKGA8ZGl2IGlkPSJodG1sXzY4NGJjM2Y3NDQ1NDRhOTQ4MDRjYzU3OTFkN2ViYjM5IiBzdHlsZT0id2lkdGg6IDEwMC4wJTsgaGVpZ2h0OiAxMDAuMCU7Ij4oODA0MDEpIEdvbGRlbjwvZGl2PmApWzBdOwogICAgICAgICAgICBwb3B1cF9kODIyYjk3ZjhlZjI0MDI2YjQxNDlkMzA1OGIxNDk5MC5zZXRDb250ZW50KGh0bWxfNjg0YmMzZjc0NDU0NGE5NDgwNGNjNTc5MWQ3ZWJiMzkpOwogICAgICAgIAoKICAgICAgICBjaXJjbGVfbWFya2VyXzc2MTA1Y2E2NDM3OTQ0NmI5ZjE3NzdlN2I2MDU1Y2JkLmJpbmRQb3B1cChwb3B1cF9kODIyYjk3ZjhlZjI0MDI2YjQxNDlkMzA1OGIxNDk5MCkKICAgICAgICA7CgogICAgICAgIAogICAgCjwvc2NyaXB0Pg== onload=\"this.contentDocument.open();this.contentDocument.write(atob(this.getAttribute('data-html')));this.contentDocument.close();\" allowfullscreen webkitallowfullscreen mozallowfullscreen></iframe></div></div>"
      ],
      "text/plain": [
       "<folium.folium.Map at 0x11507eeb0>"
      ]
     },
     "execution_count": 234,
     "metadata": {},
     "output_type": "execute_result"
    }
   ],
   "source": [
    "# create map of latitude and longitude values for Westminster, the center of our search radius. \n",
    "map_dt = folium.Map(location=[39.842285, -105.043716], zoom_start=10)\n",
    "\n",
    "# add markers to map\n",
    "for lat, lng, label in zip(df7['Latitude'], df7['Longitude'], df7['Area']):\n",
    "    label = folium.Popup(label, parse_html=True)\n",
    "    folium.CircleMarker(\n",
    "        [lat, lng],\n",
    "        radius=5,\n",
    "        popup=label,\n",
    "        color='green',\n",
    "        fill=True,\n",
    "        fill_color='#3186cc',\n",
    "        fill_opacity=0.5,\n",
    "        parse_html=False).add_to(map_dt)  \n",
    "    \n",
    "map_dt"
   ]
  },
  {
   "cell_type": "markdown",
   "metadata": {},
   "source": [
    "Finally, let's check out the most common venue in each of the seven zip codes."
   ]
  },
  {
   "cell_type": "code",
   "execution_count": 246,
   "metadata": {},
   "outputs": [
    {
     "data": {
      "text/html": [
       "<div>\n",
       "<style scoped>\n",
       "    .dataframe tbody tr th:only-of-type {\n",
       "        vertical-align: middle;\n",
       "    }\n",
       "\n",
       "    .dataframe tbody tr th {\n",
       "        vertical-align: top;\n",
       "    }\n",
       "\n",
       "    .dataframe thead th {\n",
       "        text-align: right;\n",
       "    }\n",
       "</style>\n",
       "<table border=\"1\" class=\"dataframe\">\n",
       "  <thead>\n",
       "    <tr style=\"text-align: right;\">\n",
       "      <th></th>\n",
       "      <th>Area</th>\n",
       "      <th>1st Most Common Venue</th>\n",
       "      <th>2nd Most Common Venue</th>\n",
       "      <th>3rd Most Common Venue</th>\n",
       "      <th>4th Most Common Venue</th>\n",
       "      <th>5th Most Common Venue</th>\n",
       "      <th>6th Most Common Venue</th>\n",
       "      <th>7th Most Common Venue</th>\n",
       "      <th>8th Most Common Venue</th>\n",
       "      <th>9th Most Common Venue</th>\n",
       "      <th>10th Most Common Venue</th>\n",
       "    </tr>\n",
       "  </thead>\n",
       "  <tbody>\n",
       "    <tr>\n",
       "      <th>0</th>\n",
       "      <td>(80021) Broomfield</td>\n",
       "      <td>Trail</td>\n",
       "      <td>Home Service</td>\n",
       "      <td>Fast Food Restaurant</td>\n",
       "      <td>Pizza Place</td>\n",
       "      <td>Convenience Store</td>\n",
       "      <td>Shipping Store</td>\n",
       "      <td>Gym / Fitness Center</td>\n",
       "      <td>Sandwich Place</td>\n",
       "      <td>Park</td>\n",
       "      <td>Liquor Store</td>\n",
       "    </tr>\n",
       "    <tr>\n",
       "      <th>1</th>\n",
       "      <td>(80026) Lafayette</td>\n",
       "      <td>Coffee Shop</td>\n",
       "      <td>Mexican Restaurant</td>\n",
       "      <td>Pizza Place</td>\n",
       "      <td>Sandwich Place</td>\n",
       "      <td>Salon / Barbershop</td>\n",
       "      <td>Trail</td>\n",
       "      <td>Brewery</td>\n",
       "      <td>Mediterranean Restaurant</td>\n",
       "      <td>Bagel Shop</td>\n",
       "      <td>Department Store</td>\n",
       "    </tr>\n",
       "    <tr>\n",
       "      <th>2</th>\n",
       "      <td>(80203) Denver</td>\n",
       "      <td>Sandwich Place</td>\n",
       "      <td>Coffee Shop</td>\n",
       "      <td>Pizza Place</td>\n",
       "      <td>Yoga Studio</td>\n",
       "      <td>Mexican Restaurant</td>\n",
       "      <td>Italian Restaurant</td>\n",
       "      <td>Nightclub</td>\n",
       "      <td>American Restaurant</td>\n",
       "      <td>Marijuana Dispensary</td>\n",
       "      <td>Brewery</td>\n",
       "    </tr>\n",
       "    <tr>\n",
       "      <th>3</th>\n",
       "      <td>(80205) Denver</td>\n",
       "      <td>Bar</td>\n",
       "      <td>Brewery</td>\n",
       "      <td>Coffee Shop</td>\n",
       "      <td>Zoo Exhibit</td>\n",
       "      <td>Marijuana Dispensary</td>\n",
       "      <td>Liquor Store</td>\n",
       "      <td>Park</td>\n",
       "      <td>Burger Joint</td>\n",
       "      <td>Convenience Store</td>\n",
       "      <td>Pharmacy</td>\n",
       "    </tr>\n",
       "    <tr>\n",
       "      <th>4</th>\n",
       "      <td>(80273) Denver</td>\n",
       "      <td>Coffee Shop</td>\n",
       "      <td>American Restaurant</td>\n",
       "      <td>Brewery</td>\n",
       "      <td>Nightclub</td>\n",
       "      <td>Yoga Studio</td>\n",
       "      <td>Salon / Barbershop</td>\n",
       "      <td>Mexican Restaurant</td>\n",
       "      <td>Italian Restaurant</td>\n",
       "      <td>Marijuana Dispensary</td>\n",
       "      <td>Bar</td>\n",
       "    </tr>\n",
       "    <tr>\n",
       "      <th>5</th>\n",
       "      <td>(80305) Boulder</td>\n",
       "      <td>Bus Stop</td>\n",
       "      <td>Coffee Shop</td>\n",
       "      <td>Trail</td>\n",
       "      <td>Indian Restaurant</td>\n",
       "      <td>Café</td>\n",
       "      <td>Park</td>\n",
       "      <td>Pizza Place</td>\n",
       "      <td>Pub</td>\n",
       "      <td>Brewery</td>\n",
       "      <td>Lake</td>\n",
       "    </tr>\n",
       "    <tr>\n",
       "      <th>6</th>\n",
       "      <td>(80401) Golden</td>\n",
       "      <td>Pizza Place</td>\n",
       "      <td>Fast Food Restaurant</td>\n",
       "      <td>Mexican Restaurant</td>\n",
       "      <td>Pet Store</td>\n",
       "      <td>Pharmacy</td>\n",
       "      <td>Coffee Shop</td>\n",
       "      <td>Liquor Store</td>\n",
       "      <td>Sandwich Place</td>\n",
       "      <td>Hardware Store</td>\n",
       "      <td>Doctor's Office</td>\n",
       "    </tr>\n",
       "  </tbody>\n",
       "</table>\n",
       "</div>"
      ],
      "text/plain": [
       "                 Area 1st Most Common Venue 2nd Most Common Venue  \\\n",
       "0  (80021) Broomfield                 Trail          Home Service   \n",
       "1   (80026) Lafayette           Coffee Shop    Mexican Restaurant   \n",
       "2      (80203) Denver        Sandwich Place           Coffee Shop   \n",
       "3      (80205) Denver                   Bar               Brewery   \n",
       "4      (80273) Denver           Coffee Shop   American Restaurant   \n",
       "5     (80305) Boulder              Bus Stop           Coffee Shop   \n",
       "6      (80401) Golden           Pizza Place  Fast Food Restaurant   \n",
       "\n",
       "  3rd Most Common Venue 4th Most Common Venue 5th Most Common Venue  \\\n",
       "0  Fast Food Restaurant           Pizza Place     Convenience Store   \n",
       "1           Pizza Place        Sandwich Place    Salon / Barbershop   \n",
       "2           Pizza Place           Yoga Studio    Mexican Restaurant   \n",
       "3           Coffee Shop           Zoo Exhibit  Marijuana Dispensary   \n",
       "4               Brewery             Nightclub           Yoga Studio   \n",
       "5                 Trail     Indian Restaurant                  Café   \n",
       "6    Mexican Restaurant             Pet Store              Pharmacy   \n",
       "\n",
       "  6th Most Common Venue 7th Most Common Venue     8th Most Common Venue  \\\n",
       "0        Shipping Store  Gym / Fitness Center            Sandwich Place   \n",
       "1                 Trail               Brewery  Mediterranean Restaurant   \n",
       "2    Italian Restaurant             Nightclub       American Restaurant   \n",
       "3          Liquor Store                  Park              Burger Joint   \n",
       "4    Salon / Barbershop    Mexican Restaurant        Italian Restaurant   \n",
       "5                  Park           Pizza Place                       Pub   \n",
       "6           Coffee Shop          Liquor Store            Sandwich Place   \n",
       "\n",
       "  9th Most Common Venue 10th Most Common Venue  \n",
       "0                  Park           Liquor Store  \n",
       "1            Bagel Shop       Department Store  \n",
       "2  Marijuana Dispensary                Brewery  \n",
       "3     Convenience Store               Pharmacy  \n",
       "4  Marijuana Dispensary                    Bar  \n",
       "5               Brewery                   Lake  \n",
       "6        Hardware Store        Doctor's Office  "
      ]
     },
     "execution_count": 246,
     "metadata": {},
     "output_type": "execute_result"
    }
   ],
   "source": [
    "#Importing numpy library\n",
    "import numpy as np\n",
    "\n",
    "#Defining a function for putting the results into a dataframe\n",
    "def return_most_common_venues(row, num_top_venues):\n",
    "    row_categories = row.iloc[1:]\n",
    "    row_categories_sorted = row_categories.sort_values(ascending=False)\n",
    "    \n",
    "    return row_categories_sorted.index.values[0:num_top_venues]\n",
    "\n",
    "#Defining that I want the 10 most popular venues for each neighborhood\n",
    "num_top_venues = 10\n",
    "\n",
    "indicators = ['st', 'nd', 'rd']\n",
    "\n",
    "# create columns according to number of top venues\n",
    "columns = ['Area']\n",
    "for ind in np.arange(num_top_venues):\n",
    "    try:\n",
    "        columns.append('{}{} Most Common Venue'.format(ind+1, indicators[ind]))\n",
    "    except:\n",
    "        columns.append('{}th Most Common Venue'.format(ind+1))\n",
    "\n",
    "# create a new dataframe\n",
    "neighborhoods_venues_sorted = pd.DataFrame(columns=columns)\n",
    "neighborhoods_venues_sorted['Area'] = dt_grouped['Area']\n",
    "\n",
    "for ind in np.arange(dt_grouped.shape[0]):\n",
    "    neighborhoods_venues_sorted.iloc[ind, 1:] = return_most_common_venues(dt_grouped.iloc[ind, :], num_top_venues)\n",
    "\n",
    "#Merge dataset with relevant zip codes\n",
    "df7A = pd.DataFrame(df7['Area'])\n",
    "neighborhoods_venues_sorted = pd.merge(df7A,neighborhoods_venues_sorted, on='Area')\n",
    "\n",
    "neighborhoods_venues_sorted"
   ]
  },
  {
   "cell_type": "markdown",
   "metadata": {},
   "source": [
    "This concludes the job of the data scientist. My husband and I are now left with a map of seven potential places to start searching for a new home, all fulfilling our preference criteria. We can use the tables to explore them in more detail, but ehether we want to weigh housing prices higher or lower than the amount of coffee shops and nature areas are up to us. From the table on most common venues, we can for example learn that the most common venue in Boulder i a bus stop, indicating good public transport. Also, Boulder has an abundance of coffee shops and trails, which I really love. Denver provides better opportunities in terms of dining and going out, while Broomfield has trails, home service and fast food as top three, indicating that 'city-life' with restaurants and cute coffee shops may be harder to find in Broomfield. Golden has a lot of eating options. It does surprise me that Golden does not have trails and nature more prominently, as it is located right next to the mountains. Oh, well, Foursquare cannot know everything about the world... yet, at least ;)"
   ]
  },
  {
   "cell_type": "code",
   "execution_count": null,
   "metadata": {},
   "outputs": [],
   "source": []
  }
 ],
 "metadata": {
  "kernelspec": {
   "display_name": "Python 3",
   "language": "python",
   "name": "python3"
  },
  "language_info": {
   "codemirror_mode": {
    "name": "ipython",
    "version": 3
   },
   "file_extension": ".py",
   "mimetype": "text/x-python",
   "name": "python",
   "nbconvert_exporter": "python",
   "pygments_lexer": "ipython3",
   "version": "3.8.2"
  }
 },
 "nbformat": 4,
 "nbformat_minor": 4
}
